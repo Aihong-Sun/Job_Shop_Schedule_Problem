{
 "cells": [
  {
   "cell_type": "markdown",
   "metadata": {},
   "source": [
    "## JSSP Example\n",
    "\n",
    "This notebook minimally demonstraits how to use the main function from Job Shop Schedule Problem (JSSP).\n",
    "\n",
    "Before running this notebook make sure JSSP is installed.  \n",
    "See [README.md](https://github.com/mcfadd/Job_Shop_Schedule_Problem/blob/master/README.md) for installation instructions."
   ]
  },
  {
   "cell_type": "code",
   "execution_count": 1,
   "metadata": {},
   "outputs": [],
   "source": [
    "from JSSP.data import Data\n",
    "import os\n",
    "\"\"\"\n",
    "initialize static data from csv files\n",
    "\"\"\"\n",
    "data_directory = './data/data_set2'\n",
    "Data.initialize_data(data_directory + '/sequenceDependencyMatrix.csv',\n",
    "                     data_directory + '/machineRunSpeed.csv',\n",
    "                     data_directory + '/jobTasks.csv')\n",
    "\n",
    "# uncomment this to print the data that was read in\n",
    "# Data.print_data()"
   ]
  },
  {
   "cell_type": "markdown",
   "metadata": {},
   "source": [
    "### Parameters for Tabu Search\n",
    "\n",
    "See [README.md](https://github.com/mcfadd/Job_Shop_Schedule_Problem/blob/master/README.md) for information on these parameters."
   ]
  },
  {
   "cell_type": "code",
   "execution_count": 2,
   "metadata": {},
   "outputs": [],
   "source": [
    "runtime = 60 # set runtime to 60 seconds \n",
    "output_dir = './jssp_output'\n",
    "num_processes = 4\n",
    "tabu_list_size = 50\n",
    "neighborhood_size = 300\n",
    "neighborhood_wait = 0.1\n",
    "probability_change_machine = 0.8"
   ]
  },
  {
   "cell_type": "markdown",
   "metadata": {},
   "source": [
    "As of right now the main program only runs parallel Tabu Search.  "
   ]
  },
  {
   "cell_type": "code",
   "execution_count": 3,
   "metadata": {},
   "outputs": [
    {
     "name": "stdout",
     "output_type": "stream",
     "text": [
      "Parameters:\n",
      "runtime = 60 seconds\n",
      "output directory = ./jssp_outputnumber of processes = 4\n",
      "tabu_search list size = 50\n",
      "neighborhood size = 300\n",
      "neighborhood wait time = 0.1 seconds\n",
      "probability of changing an operation's machine = 0.8\n",
      "initial solution makespan = None\n",
      "\n",
      "Initial Solution's makespans:\n",
      "[8161, 8649, 9650, 7141]\n",
      "\n",
      "child TS process started. pid = 5742\n",
      "child TS process started. pid = 5743\n",
      "child TS process started. pid = 5744\n",
      "child TS process started. pid = 5745\n"
     ]
    },
    {
     "name": "stderr",
     "output_type": "stream",
     "text": [
      "||||||||||||||||||||||||||||||||||||||||||||||||||||||||||||||||| Time: 0:00:58\n"
     ]
    },
    {
     "name": "stdout",
     "output_type": "stream",
     "text": [
      "child TS process finished. pid = 5742\n",
      "child TS process finished. pid = 5743\n",
      "child TS process finished. pid = 5744\n",
      "child TS process finished. pid = 5745\n",
      "collecting results from tmp directory\n",
      "Tabu Search Makespan Results:\n",
      "[4069.13, 4054.1938775510207, 4060.0720720720715, 4067.0990990990986]\n",
      "\n",
      "Best Solution Found:\n",
      "makespan = 4054.1938775510207\n",
      "machine_makespans = [4039.276422764228, 4038.8965517241377, 4001.8552631578946, 4038.54520785846, 4052.6576576576567, 4039.8399999999997, 4054.1938775510207, 4037.854304635762]\n",
      "operation_list =\n",
      "[[   13     1     0     3 11007]\n",
      " [   22     0     0     7 18595]\n",
      " [   42     0     0     3 18461]\n",
      " ...\n",
      " [   30     1     1     0  8248]\n",
      " [   21     5     3     5 22744]\n",
      " [   21     4     3     0 12909]]\n",
      "\n",
      "Schedule.xlsx placed in ./jssp_output\n"
     ]
    },
    {
     "data": {
      "text/plain": [
       "0"
      ]
     },
     "execution_count": 3,
     "metadata": {},
     "output_type": "execute_result"
    }
   ],
   "source": [
    "from JSSP.main import main\n",
    "\"\"\"\n",
    "Run the main program\n",
    "\n",
    "If you would like to run a benchmark \n",
    "set is_benchmark=True.\n",
    "\"\"\"\n",
    "\n",
    "main(runtime, \n",
    "     output_dir, \n",
    "     num_processes, \n",
    "     tabu_list_size, \n",
    "     neighborhood_size, \n",
    "     neighborhood_wait, \n",
    "     probability_change_machine, \n",
    "     is_benchmark=False,\n",
    "     verbose=True, \n",
    "     progress_bar=True)\n"
   ]
  },
  {
   "cell_type": "code",
   "execution_count": null,
   "metadata": {},
   "outputs": [],
   "source": []
  }
 ],
 "metadata": {
  "kernelspec": {
   "display_name": "Python 3",
   "language": "python",
   "name": "python3"
  },
  "language_info": {
   "codemirror_mode": {
    "name": "ipython",
    "version": 3
   },
   "file_extension": ".py",
   "mimetype": "text/x-python",
   "name": "python",
   "nbconvert_exporter": "python",
   "pygments_lexer": "ipython3",
   "version": "3.6.7"
  }
 },
 "nbformat": 4,
 "nbformat_minor": 2
}
