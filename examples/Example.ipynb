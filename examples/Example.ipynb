{
 "cells": [
  {
   "cell_type": "markdown",
   "metadata": {},
   "source": [
    "## JSSP Example\n",
    "\n",
    "This notebook minimally demonstraits how to use the main function from Job Shop Schedule Problem (JSSP).\n",
    "\n",
    "Before running this notebook make sure JSSP is installed.  \n",
    "See [README.md](https://github.com/mcfadd/Job_Shop_Schedule_Problem#how-to-install) for installation instructions."
   ]
  },
  {
   "cell_type": "code",
   "execution_count": 1,
   "metadata": {},
   "outputs": [],
   "source": [
    "from JSSP.data import Data\n",
    "import os\n",
    "\"\"\"\n",
    "initialize static data from csv files\n",
    "\"\"\"\n",
    "data_directory = '../data/data_set2'\n",
    "Data.initialize_data(data_directory + '/sequenceDependencyMatrix.csv',\n",
    "                     data_directory + '/machineRunSpeed.csv',\n",
    "                     data_directory + '/jobTasks.csv')\n",
    "\n",
    "# uncomment this to print the data that was read in\n",
    "# Data.print_data()"
   ]
  },
  {
   "cell_type": "markdown",
   "metadata": {},
   "source": [
    "### Parameters for Tabu Search\n",
    "\n",
    "See [README.md](https://github.com/mcfadd/Job_Shop_Schedule_Problem/blob/master/README.md) for information on these parameters."
   ]
  },
  {
   "cell_type": "code",
   "execution_count": 2,
   "metadata": {},
   "outputs": [],
   "source": [
    "runtime = 150 # set runtime to 60 seconds \n",
    "output_dir = './jssp_output'\n",
    "num_processes = 10\n",
    "tabu_list_size = 50\n",
    "neighborhood_size = 300\n",
    "neighborhood_wait = 0.1\n",
    "probability_change_machine = 0.8"
   ]
  },
  {
   "cell_type": "markdown",
   "metadata": {},
   "source": [
    "As of right now the main program only runs parallel Tabu Search.  "
   ]
  },
  {
   "cell_type": "code",
   "execution_count": 3,
   "metadata": {},
   "outputs": [
    {
     "name": "stdout",
     "output_type": "stream",
     "text": [
      "Parameters:\n",
      "runtime = 150 seconds\n",
      "output directory = ./jssp_output\n",
      "number of processes = 10\n",
      "tabu_search list size = 50\n",
      "neighborhood size = 300\n",
      "neighborhood wait time = 0.1 seconds\n",
      "probability of changing an operation's machine = 0.8\n",
      "initial solution makespan = None\n",
      "\n",
      "Initial Solution's makespans:\n",
      "[7289, 8670, 7284, 6668, 8206, 7671, 8485, 8350, 7859, 8811]\n",
      "\n",
      "child TS process started. pid = 20447\n",
      "child TS process started. pid = 20448\n",
      "child TS process started. pid = 20449\n",
      "child TS process started. pid = 20450\n",
      "child TS process started. pid = 20451\n",
      "child TS process started. pid = 20452\n",
      "child TS process started. pid = 20453\n",
      "child TS process started. pid = 20454\n",
      "child TS process started. pid = 20455\n",
      "child TS process started. pid = 20456\n"
     ]
    },
    {
     "name": "stderr",
     "output_type": "stream",
     "text": [
      "||||||||||||||||||||||||||||||||||||||||||||||||||||||||||||||||| Time: 0:02:28\n"
     ]
    },
    {
     "name": "stdout",
     "output_type": "stream",
     "text": [
      "child TS process finished. pid = 20447\n",
      "child TS process finished. pid = 20448\n",
      "child TS process finished. pid = 20449\n",
      "child TS process finished. pid = 20450\n",
      "child TS process finished. pid = 20451\n",
      "child TS process finished. pid = 20452\n",
      "child TS process finished. pid = 20453\n",
      "child TS process finished. pid = 20454\n",
      "child TS process finished. pid = 20455\n",
      "child TS process finished. pid = 20456\n",
      "collecting results from tmp directory\n",
      "Tabu Search Makespan Results:\n",
      "[4055.316326530612, 4063.173469387755, 4072.74, 4062.5800000000004, 4061.5765765765764, 4085.931034482758, 4055.4736842105262, 4063.0408163265306, 4060.438775510204, 4065.3947368421054]\n",
      "\n",
      "Best Solution Found:\n",
      "makespan = 4055.316326530612\n",
      "machine_makespans = [4025.5121951219517, 4051.534482758621, 4043.065789473685, 4012.3614457831327, 4055.2432432432433, 4033.9200000000005, 4055.316326530612, 4025.5033112582787]\n",
      "operation_list =\n",
      "[[   24     1     0     4  7274]\n",
      " [    6     2     0     6 23424]\n",
      " [   15     1     0     6 23821]\n",
      " ...\n",
      " [   37     5     3     3 18997]\n",
      " [   12     5     3     7 17910]\n",
      " [   21     4     3     0 12909]]\n",
      "\n",
      "Schedule.xlsx placed in ./jssp_output\n"
     ]
    },
    {
     "data": {
      "text/plain": [
       "0"
      ]
     },
     "execution_count": 3,
     "metadata": {},
     "output_type": "execute_result"
    }
   ],
   "source": [
    "from JSSP.main import main\n",
    "\"\"\"\n",
    "Run the main program\n",
    "\n",
    "If you would like to run a benchmark \n",
    "set is_benchmark=True.\n",
    "\"\"\"\n",
    "\n",
    "main(runtime, \n",
    "     output_dir, \n",
    "     num_processes, \n",
    "     tabu_list_size, \n",
    "     neighborhood_size, \n",
    "     neighborhood_wait, \n",
    "     probability_change_machine, \n",
    "     is_benchmark=False,\n",
    "     verbose=True, \n",
    "     progress_bar=True)\n",
    "\n",
    "# main(runtime, \n",
    "#      output_dir,  \n",
    "#      is_benchmark=True, \n",
    "#      progress_bar=True)"
   ]
  },
  {
   "cell_type": "code",
   "execution_count": null,
   "metadata": {},
   "outputs": [],
   "source": []
  }
 ],
 "metadata": {
  "kernelspec": {
   "display_name": "Python 3",
   "language": "python",
   "name": "python3"
  },
  "language_info": {
   "codemirror_mode": {
    "name": "ipython",
    "version": 3
   },
   "file_extension": ".py",
   "mimetype": "text/x-python",
   "name": "python",
   "nbconvert_exporter": "python",
   "pygments_lexer": "ipython3",
   "version": "3.6.7"
  }
 },
 "nbformat": 4,
 "nbformat_minor": 2
}
