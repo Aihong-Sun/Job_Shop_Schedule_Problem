{
 "cells": [
  {
   "cell_type": "markdown",
   "metadata": {},
   "source": [
    "## JSSP Example\n",
    "\n",
    "This notebook minimally demonstraits how to use the main function from Job Shop Schedule Problem (JSSP).\n",
    "\n",
    "Before running this notebook make sure JSSP is installed.  \n",
    "See [README.md](https://github.com/mcfadd/Job_Shop_Schedule_Problem#how-to-install) for installation instructions."
   ]
  },
  {
   "cell_type": "code",
   "execution_count": 1,
   "metadata": {},
   "outputs": [],
   "source": [
    "from JSSP.data import Data\n",
    "import os\n",
    "\"\"\"\n",
    "initialize static data from csv files\n",
    "\"\"\"\n",
    "data_directory = '../data/data_set2'\n",
    "Data.initialize_data_from_csv(data_directory + '/sequenceDependencyMatrix.csv',\n",
    "                              data_directory + '/machineRunSpeed.csv',\n",
    "                              data_directory + '/jobTasks.csv')\n",
    "\n",
    "# uncomment this to print the data that was read in\n",
    "# Data.print_data()"
   ]
  },
  {
   "cell_type": "markdown",
   "metadata": {},
   "source": [
    "### Parameters for Tabu Search\n",
    "\n",
    "See [README.md](https://github.com/mcfadd/Job_Shop_Schedule_Problem/blob/master/README.md) for information on these parameters."
   ]
  },
  {
   "cell_type": "code",
   "execution_count": 2,
   "metadata": {},
   "outputs": [],
   "source": [
    "runtime = 150 # set runtime to 60 seconds \n",
    "output_dir = './jssp_output'\n",
    "num_processes = 10\n",
    "tabu_list_size = 50\n",
    "neighborhood_size = 300\n",
    "neighborhood_wait = 0.1\n",
    "probability_change_machine = 0.8"
   ]
  },
  {
   "cell_type": "markdown",
   "metadata": {},
   "source": [
    "As of right now the main program only runs parallel Tabu Search.  "
   ]
  },
  {
   "cell_type": "code",
   "execution_count": 3,
   "metadata": {},
   "outputs": [
    {
     "name": "stdout",
     "output_type": "stream",
     "text": [
      "Parameters:\n",
      "runtime = 150 seconds\n",
      "output directory = ./jssp_output\n",
      "number of processes = 10\n",
      "tabu list size = 50\n",
      "neighborhood size = 300\n",
      "neighborhood wait time = 0.1 seconds\n",
      "probability of changing an operation's machine = 0.8\n",
      "initial solution makespan = None\n",
      "\n"
     ]
    },
    {
     "name": "stderr",
     "output_type": "stream",
     "text": [
      "||||||||||||||||||||||||||||||||||||||||||||||||||||||||||||||||| Time: 0:02:28\n"
     ]
    },
    {
     "name": "stdout",
     "output_type": "stream",
     "text": [
      "Tabu Search Makespan Results:\n",
      "[4049.975903614458, 4063.428571428571, 4079.4939759036142, 4062.3493975903616, 4064.710843373494, 4077.8108108108104, 4062.060240963856, 4061.951807228916, 4060.640000000001, 4073.9036144578317]\n",
      "\n",
      "Best Solution Found:\n",
      "makespan = 4049.975903614458\n",
      "machine_makespans = [4047.430894308943, 4033.1551724137926, 4008.776315789473, 4049.975903614458, 4049.459459459459, 4042.9000000000005, 4043.9489795918366, 4025.986754966887]\n",
      "operation_list =\n",
      "[[   49     0     0     0 17091]\n",
      " [   29     1     0     1 22740]\n",
      " [   31     0     0     0 23700]\n",
      " ...\n",
      " [   45     0     0     5 21425]\n",
      " [   10     2     2     2 10801]\n",
      " [   14     6     5     7 19098]]\n",
      "\n",
      "Schedule.xlsx placed in ./jssp_output\n"
     ]
    },
    {
     "data": {
      "text/plain": [
       "0"
      ]
     },
     "execution_count": 3,
     "metadata": {},
     "output_type": "execute_result"
    }
   ],
   "source": [
    "from JSSP.main import main\n",
    "\"\"\"\n",
    "Run the main program\n",
    "\"\"\"\n",
    "\n",
    "main(runtime, \n",
    "     output_dir, \n",
    "     num_processes, \n",
    "     tabu_list_size, \n",
    "     neighborhood_size, \n",
    "     neighborhood_wait, \n",
    "     probability_change_machine,\n",
    "     progress_bar=True)"
   ]
  },
  {
   "cell_type": "code",
   "execution_count": null,
   "metadata": {},
   "outputs": [],
   "source": []
  }
 ],
 "metadata": {
  "kernelspec": {
   "display_name": "Python 3",
   "language": "python",
   "name": "python3"
  },
  "language_info": {
   "codemirror_mode": {
    "name": "ipython",
    "version": 3
   },
   "file_extension": ".py",
   "mimetype": "text/x-python",
   "name": "python",
   "nbconvert_exporter": "python",
   "pygments_lexer": "ipython3",
   "version": "3.6.7"
  }
 },
 "nbformat": 4,
 "nbformat_minor": 2
}
