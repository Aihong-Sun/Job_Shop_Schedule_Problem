{
 "cells": [
  {
   "cell_type": "markdown",
   "metadata": {
    "pycharm": {}
   },
   "source": [
    "## JSSP Tabu Search and Genetic Algorithm Example\n",
    "\n",
    "This notebook demonstraits how to use both prallel tabu seach and the genetic algorithm."
   ]
  },
  {
   "cell_type": "code",
   "execution_count": 1,
   "metadata": {
    "pycharm": {}
   },
   "outputs": [],
   "source": [
    "from JSSP.data import Data\n",
    "import os\n",
    "\n",
    "# initialize data\n",
    "data_directory = '../data/given_data'\n",
    "Data.initialize_data_from_csv(data_directory + '/sequenceDependencyMatrix.csv',\n",
    "                              data_directory + '/machineRunSpeed.csv',\n",
    "                              data_directory + '/jobTasks.csv')\n",
    "\n",
    "# uncomment this to print the data that was read in\n",
    "# Data.print_data()"
   ]
  },
  {
   "cell_type": "markdown",
   "metadata": {
    "pycharm": {}
   },
   "source": [
    "### Tabu Search Before Genetic Algorithm"
   ]
  },
  {
   "cell_type": "code",
   "execution_count": 2,
   "metadata": {
    "pycharm": {}
   },
   "outputs": [
    {
     "name": "stdout",
     "output_type": "stream",
     "text": [
      "Tabu Search Solution:\n",
      "makespan = 4063.039735099338\n",
      "machine_makespans = [4027.146341463415, 3995.396551724137, 4042.118421052631, 4062.759036144578, 4050.882882882883, 4049.2899999999995, 4037.3877551020405, 4063.039735099338]\n",
      "operation_list =\n",
      "[[   19     0     0     2 23693]\n",
      " [   25     1     0     7  6435]\n",
      " [   44     1     0     1 10819]\n",
      " ...\n",
      " [   24     6     4     4 14392]\n",
      " [    6     4     2     6  7660]\n",
      " [    6     5     2     0  6053]]\n",
      "Genetic Algorithm Solution:\n",
      "makespan = 4063.039735099338\n",
      "machine_makespans = [4027.146341463415, 3995.396551724137, 4042.118421052631, 4062.759036144578, 4050.882882882883, 4049.2899999999995, 4037.3877551020405, 4063.039735099338]\n",
      "operation_list =\n",
      "[[   19     0     0     2 23693]\n",
      " [   25     1     0     7  6435]\n",
      " [   44     1     0     1 10819]\n",
      " ...\n",
      " [   24     6     4     4 14392]\n",
      " [    6     4     2     6  7660]\n",
      " [    6     5     2     0  6053]]\n"
     ]
    }
   ],
   "source": [
    "from JSSP.solver import Solver\n",
    "\n",
    "output_dir = './example_output'\n",
    "output_results = False\n",
    "auto_open = False\n",
    "verbose = False\n",
    "benchmark = False\n",
    "progress_bar = False\n",
    "\n",
    "# ts parameters\n",
    "ts_runtime = 30 # in seconds\n",
    "num_processes = 4\n",
    "tabu_list_size = 50\n",
    "neighborhood_size = 200\n",
    "neighborhood_wait = 0.12\n",
    "probability_change_machine = 0.8\n",
    "reset_threshold = 100\n",
    "\n",
    "# ga parameters\n",
    "ga_runtime = 30 # in seconds\n",
    "mutation_probability = 0.8\n",
    "population_size = 100\n",
    "selection_size = 6\n",
    "population = []\n",
    "\n",
    "# create solver\n",
    "solver = Solver()\n",
    "\n",
    "# run tabu seach\n",
    "solution = solver.tabu_search_time(ts_runtime,\n",
    "                                   num_processes,\n",
    "                                   tabu_list_size,\n",
    "                                   neighborhood_size,\n",
    "                                   neighborhood_wait,\n",
    "                                   probability_change_machine,\n",
    "                                   reset_threshold,\n",
    "                                   benchmark=benchmark,\n",
    "                                   verbose=verbose,\n",
    "                                   progress_bar=progress_bar\n",
    "                                  )\n",
    "    \n",
    "print('Tabu Search Solution:')\n",
    "solution.pprint()\n",
    "\n",
    "# add all tabu search solutions to population\n",
    "population += solver.ts_all_solutions\n",
    "\n",
    "# run genetic algorithm\n",
    "solution = solver.genetic_algorithm_time(ga_runtime, \n",
    "                                         population, \n",
    "                                         population_size, \n",
    "                                         mutation_probability, \n",
    "                                         selection_size, \n",
    "                                         benchmark=benchmark,\n",
    "                                         verbose=verbose,\n",
    "                                         progress_bar=progress_bar\n",
    "                                        )\n",
    "\n",
    "print('Genetic Algorithm Solution:')\n",
    "solution.pprint()\n",
    "\n",
    "if output_results:\n",
    "    if benchmark:\n",
    "        solver.output_benchmark_results(output_dir, name='example_benchmark', auto_open=auto_open)\n",
    "    else:\n",
    "        solution.create_schedule(output_dir)"
   ]
  },
  {
   "cell_type": "markdown",
   "metadata": {
    "pycharm": {}
   },
   "source": [
    "### Genetic Algorithm Before Tabu Search"
   ]
  },
  {
   "cell_type": "code",
   "execution_count": 3,
   "metadata": {
    "pycharm": {}
   },
   "outputs": [
    {
     "name": "stdout",
     "output_type": "stream",
     "text": [
      "Genetic Algorithm Solution:\n",
      "makespan = 4691.706896551726\n",
      "machine_makespans = [4519.196084724005, 4691.706896551726, 4523.815789473685, 4532.084227176618, 4525.365937503615, 4507.670000000001, 4606.693877551019, 4613.890614295502]\n",
      "operation_list =\n",
      "[[   17     0     0     7 11056]\n",
      " [   27     0     0     4 18694]\n",
      " [    3     0     0     6 20912]\n",
      " ...\n",
      " [   21     4     3     6 12909]\n",
      " [   29     3     2     3  6080]\n",
      " [   42     2     2     5 17151]]\n",
      "Tabu Search Solution:\n",
      "makespan = 4059.1700000000005\n",
      "machine_makespans = [4048.7398373983738, 3985.068965517241, 4008.4810526315796, 4034.89156626506, 4019.162162162161, 4059.1700000000005, 4054.15306122449, 4056.1456953642387]\n",
      "operation_list =\n",
      "[[   21     0     0     7 19015]\n",
      " [    8     1     0     2  6671]\n",
      " [   16     0     0     0  7276]\n",
      " ...\n",
      " [   14     6     5     7 19098]\n",
      " [    8     2     1     6 10343]\n",
      " [   32     5     4     6 16111]]\n"
     ]
    }
   ],
   "source": [
    "from JSSP.solver import Solver\n",
    "\n",
    "output_dir = './example_output'\n",
    "output_results = False\n",
    "auto_open = False\n",
    "verbose = False\n",
    "benchmark = False\n",
    "progress_bar = False\n",
    "\n",
    "# ts parameters\n",
    "ts_runtime = 30 # in seconds\n",
    "num_processes = 4\n",
    "tabu_list_size = 50\n",
    "neighborhood_size = 200\n",
    "neighborhood_wait = 0.1\n",
    "probability_change_machine = 0.8\n",
    "reset_threshold = 100\n",
    "\n",
    "# ga parameters\n",
    "ga_runtime = 30 # in seconds\n",
    "mutation_probability = 0.8\n",
    "population_size = 200\n",
    "selection_size = 5\n",
    "population = []\n",
    "\n",
    "# create solver\n",
    "solver = Solver()\n",
    "\n",
    "# run geneitc algorithm\n",
    "solution = solver.genetic_algorithm_time(ga_runtime, \n",
    "                                         population, \n",
    "                                         population_size, \n",
    "                                         mutation_probability, \n",
    "                                         selection_size, \n",
    "                                         benchmark=benchmark,\n",
    "                                         verbose=verbose,\n",
    "                                         progress_bar=progress_bar\n",
    "                                        )\n",
    "\n",
    "print('Genetic Algorithm Solution:')\n",
    "solution.pprint()\n",
    "\n",
    "# pass best solutions found to tabu search\n",
    "initial_solutions = sorted(solver.ga_result_population)[:num_processes]\n",
    "\n",
    "# run tabu seach\n",
    "solution = solver.tabu_search_time(ts_runtime,\n",
    "                                   num_processes,\n",
    "                                   tabu_list_size,\n",
    "                                   neighborhood_size,\n",
    "                                   neighborhood_wait,\n",
    "                                   probability_change_machine,\n",
    "                                   reset_threshold,\n",
    "                                   initial_solutions=initial_solutions,\n",
    "                                   benchmark=benchmark,\n",
    "                                   verbose=verbose,\n",
    "                                   progress_bar=progress_bar\n",
    "                                  )\n",
    "    \n",
    "print('Tabu Search Solution:')\n",
    "solution.pprint()\n",
    "\n",
    "if output_results:\n",
    "    if benchmark:\n",
    "        solver.output_benchmark_results(output_dir, name='example_benchmark', auto_open=auto_open)\n",
    "    else:\n",
    "        solution.create_schedule(output_dir)"
   ]
  },
  {
   "cell_type": "code",
   "execution_count": null,
   "metadata": {
    "pycharm": {}
   },
   "outputs": [],
   "source": []
  }
 ],
 "metadata": {
  "kernelspec": {
   "display_name": "Python 3",
   "language": "python",
   "name": "python3"
  },
  "language_info": {
   "codemirror_mode": {
    "name": "ipython",
    "version": 3
   },
   "file_extension": ".py",
   "mimetype": "text/x-python",
   "name": "python",
   "nbconvert_exporter": "python",
   "pygments_lexer": "ipython3",
   "version": "3.6.7"
  },
  "pycharm": {
   "stem_cell": {
    "cell_type": "raw",
    "metadata": {
     "collapsed": false
    },
    "source": []
   }
  }
 },
 "nbformat": 4,
 "nbformat_minor": 2
}
