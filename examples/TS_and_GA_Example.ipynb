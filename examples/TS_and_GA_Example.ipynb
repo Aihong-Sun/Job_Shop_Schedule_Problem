{
  "cells": [
    {
      "cell_type": "markdown",
      "metadata": {
        "pycharm": {}
      },
      "source": [
        "## JSSP Tabu Search and Genetic Algorithm Example\n",
        "\n",
        "This notebook demonstraits how to use both prallel tabu seach and the genetic algorithm."
      ]
    },
    {
      "cell_type": "code",
      "execution_count": 1,
      "metadata": {
        "pycharm": {}
      },
      "outputs": [],
      "source": "from JSSP.data import Data\nimport os\n\n# initialize data\ndata_directory \u003d \u0027../data/given_data\u0027\nData.initialize_data_from_csv(data_directory + \u0027/sequenceDependencyMatrix.csv\u0027,\n                              data_directory + \u0027/machineRunSpeed.csv\u0027,\n                              data_directory + \u0027/jobTasks.csv\u0027)\n\n# uncomment this to print the data that was read in\n# Data.print_data()"
    },
    {
      "cell_type": "markdown",
      "metadata": {
        "pycharm": {}
      },
      "source": [
        "### Tabu Search Before Genetic Algorithm"
      ]
    },
    {
      "cell_type": "code",
      "execution_count": 2,
      "metadata": {
        "pycharm": {}
      },
      "outputs": [
        {
          "name": "stdout",
          "output_type": "stream",
          "text": [
            "Tabu Search Solution:\n",
            "makespan \u003d 4083.279279279279\n",
            "machine_makespans \u003d [4019.6016260162614, 4013.2586206896553, 4019.4473684210525, 4027.072289156627, 4083.279279279279, 4047.25, 4068.234693877551, 4050.013245033113]\n",
            "operation_list \u003d\n",
            "[[   16     0     0     5  7276]\n",
            " [   22     0     0     5 18595]\n",
            " [   34     2     0     5  8216]\n",
            " ...\n",
            " [   30     4     1     0 15587]\n",
            " [   37     5     3     3 18997]\n",
            " [    3     5     3     3 10208]]\n",
            "Genetic Algorithm Solution:\n",
            "makespan \u003d 4083.279279279279\n",
            "machine_makespans \u003d [4019.6016260162614, 4013.2586206896553, 4019.4473684210525, 4027.072289156627, 4083.279279279279, 4047.25, 4068.234693877551, 4050.013245033113]\n",
            "operation_list \u003d\n",
            "[[   16     0     0     5  7276]\n",
            " [   22     0     0     5 18595]\n",
            " [   34     2     0     5  8216]\n",
            " ...\n",
            " [   30     4     1     0 15587]\n",
            " [   37     5     3     3 18997]\n",
            " [    3     5     3     3 10208]]\n"
          ]
        }
      ],
      "source": [
        "from JSSP.solver import Solver\n",
        "\n",
        "output_dir \u003d \u0027./example_output\u0027\n",
        "output_results \u003d False\n",
        "auto_open \u003d False\n",
        "verbose \u003d False\n",
        "benchmark \u003d False\n",
        "progress_bar \u003d False\n",
        "\n",
        "# ts parameters\n",
        "runtime \u003d 10 # in seconds\n",
        "num_processes \u003d 2\n",
        "tabu_list_size \u003d 50\n",
        "neighborhood_size \u003d 250\n",
        "neighborhood_wait \u003d 0.1\n",
        "probability_change_machine \u003d 0.8\n",
        "reset_threshold \u003d 100\n",
        "\n",
        "# ga parameters\n",
        "runtime \u003d 10 # in seconds\n",
        "mutation_probability \u003d 0.8\n",
        "population_size \u003d 200\n",
        "selection_size \u003d 5\n",
        "population \u003d []\n",
        "\n",
        "# create solver\n",
        "solver \u003d Solver()\n",
        "\n",
        "# run tabu seach\n",
        "solution \u003d solver.tabu_search(runtime,\n",
        "                              num_processes,\n",
        "                              tabu_list_size,\n",
        "                              neighborhood_size,\n",
        "                              neighborhood_wait,\n",
        "                              probability_change_machine,\n",
        "                              reset_threshold,\n",
        "                              benchmark\u003dbenchmark,\n",
        "                              verbose\u003dverbose,\n",
        "                              progress_bar\u003dprogress_bar\n",
        "                             )\n",
        "    \n",
        "print(\u0027Tabu Search Solution:\u0027)\n",
        "solution.pprint()\n",
        "\n",
        "# add all tabu search solutions to population\n",
        "population +\u003d solver.ts_all_solutions\n",
        "\n",
        "# run genetic algorithm\n",
        "solution \u003d solver.genetic_algorithm(runtime, \n",
        "                                    population, \n",
        "                                    population_size, \n",
        "                                    mutation_probability, \n",
        "                                    selection_size, \n",
        "                                    benchmark\u003dbenchmark, \n",
        "                                    progress_bar\u003dprogress_bar)\n",
        "\n",
        "print(\u0027Genetic Algorithm Solution:\u0027)\n",
        "solution.pprint()\n",
        "\n",
        "if output_results:\n",
        "    if benchmark:\n",
        "        solver.output_benchmark_results(output_dir, name\u003d\u0027example_benchmark\u0027, auto_open\u003dauto_open)\n",
        "    else:\n",
        "        solution.create_schedule(output_dir)"
      ]
    },
    {
      "cell_type": "markdown",
      "metadata": {
        "pycharm": {}
      },
      "source": [
        "### Genetic Algorithm Before Tabu Search"
      ]
    },
    {
      "cell_type": "code",
      "execution_count": 5,
      "metadata": {
        "pycharm": {}
      },
      "outputs": [
        {
          "name": "stdout",
          "output_type": "stream",
          "text": [
            "Genetic Algorithm Solution:\n",
            "makespan \u003d 4953.255102040816\n",
            "machine_makespans \u003d [4784.310270449644, 4931.424700914849, 4875.052631578947, 4696.192771084337, 4016.5405405405413, 4921.30861788618, 4953.255102040816, 4171.747871333964]\n",
            "operation_list \u003d\n",
            "[[   43     0     0     5  7688]\n",
            " [   13     0     0     4 17404]\n",
            " [   19     0     0     2 23693]\n",
            " ...\n",
            " [   34     4     2     6 18747]\n",
            " [   36     3     2     1  9829]\n",
            " [   42     2     2     3 17151]]\n",
            "Tabu Search Solution:\n",
            "makespan \u003d 4069.3157894736846\n",
            "machine_makespans \u003d [4060.634146341464, 4030.3634764250532, 4069.3157894736846, 4064.144578313253, 4061.3471182025405, 4064.4199999999996, 4052.1938775510207, 4045.8874172185433]\n",
            "operation_list \u003d\n",
            "[[   14     0     0     6 14120]\n",
            " [   12     0     0     7  8191]\n",
            " [    4     1     0     4 14753]\n",
            " ...\n",
            " [   44     5     4     5 10137]\n",
            " [   45     2     0     7 12334]\n",
            " [   42     2     2     3 17151]]\n"
          ]
        }
      ],
      "source": [
        "from JSSP.solver import Solver\n",
        "\n",
        "output_dir \u003d \u0027./example_output\u0027\n",
        "output_results \u003d False\n",
        "auto_open \u003d False\n",
        "verbose \u003d False\n",
        "benchmark \u003d False\n",
        "progress_bar \u003d False\n",
        "\n",
        "# ts parameters\n",
        "runtime \u003d 10 # in seconds\n",
        "num_processes \u003d 2\n",
        "tabu_list_size \u003d 50\n",
        "neighborhood_size \u003d 250\n",
        "neighborhood_wait \u003d 0.1\n",
        "probability_change_machine \u003d 0.8\n",
        "reset_threshold \u003d 100\n",
        "\n",
        "# ga parameters\n",
        "runtime \u003d 10 # in seconds\n",
        "mutation_probability \u003d 0.8\n",
        "population_size \u003d 200\n",
        "selection_size \u003d 5\n",
        "population \u003d []\n",
        "\n",
        "# create solver\n",
        "solver \u003d Solver()\n",
        "\n",
        "# run geneitc algorithm\n",
        "solution \u003d solver.genetic_algorithm(runtime, \n",
        "                                    population, \n",
        "                                    population_size, \n",
        "                                    mutation_probability, \n",
        "                                    selection_size, \n",
        "                                    benchmark\u003dbenchmark, \n",
        "                                    progress_bar\u003dprogress_bar)\n",
        "\n",
        "print(\u0027Genetic Algorithm Solution:\u0027)\n",
        "solution.pprint()\n",
        "\n",
        "# pass best solutions found to tabu search\n",
        "initial_solutions \u003d sorted(solver.ga_result_population)[:num_processes]\n",
        "\n",
        "# run tabu seach\n",
        "solution \u003d solver.tabu_search(runtime,\n",
        "                              num_processes,\n",
        "                              tabu_list_size,\n",
        "                              neighborhood_size,\n",
        "                              neighborhood_wait,\n",
        "                              probability_change_machine,\n",
        "                              reset_threshold,\n",
        "                              initial_solutions\u003dinitial_solutions,\n",
        "                              benchmark\u003dbenchmark,\n",
        "                              verbose\u003dverbose,\n",
        "                              progress_bar\u003dprogress_bar\n",
        "                             )\n",
        "    \n",
        "print(\u0027Tabu Search Solution:\u0027)\n",
        "solution.pprint()\n",
        "\n",
        "if output_results:\n",
        "    if benchmark:\n",
        "        solver.output_benchmark_results(output_dir, name\u003d\u0027example_benchmark\u0027, auto_open\u003dauto_open)\n",
        "    else:\n",
        "        solution.create_schedule(output_dir)"
      ]
    },
    {
      "cell_type": "code",
      "execution_count": null,
      "metadata": {
        "pycharm": {}
      },
      "outputs": [],
      "source": []
    }
  ],
  "metadata": {
    "kernelspec": {
      "display_name": "Python 3",
      "language": "python",
      "name": "python3"
    },
    "language_info": {
      "codemirror_mode": {
        "name": "ipython",
        "version": 3
      },
      "file_extension": ".py",
      "mimetype": "text/x-python",
      "name": "python",
      "nbconvert_exporter": "python",
      "pygments_lexer": "ipython3",
      "version": "3.6.7"
    }
  },
  "nbformat": 4,
  "nbformat_minor": 2
}