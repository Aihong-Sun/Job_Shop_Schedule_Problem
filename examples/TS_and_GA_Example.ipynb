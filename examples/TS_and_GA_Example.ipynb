{
 "cells": [
  {
   "cell_type": "markdown",
   "metadata": {},
   "source": [
    "## JSSP Example\n",
    "\n",
    "This notebook demonstraits how to use prallel tabu seach to generate a an initial population for a genetic algorithm."
   ]
  },
  {
   "cell_type": "code",
   "execution_count": 1,
   "metadata": {},
   "outputs": [],
   "source": [
    "from JSSP.data import Data\n",
    "import os\n",
    "\"\"\"\n",
    "initialize static data from csv files\n",
    "\"\"\"\n",
    "data_directory = '../data/data_set2'\n",
    "Data.initialize_data_from_csv(data_directory + '/sequenceDependencyMatrix.csv',\n",
    "                              data_directory + '/machineRunSpeed.csv',\n",
    "                              data_directory + '/jobTasks.csv')\n",
    "\n",
    "# uncomment this to print the data that was read in\n",
    "# Data.print_data()"
   ]
  },
  {
   "cell_type": "code",
   "execution_count": 2,
   "metadata": {},
   "outputs": [],
   "source": [
    "# global variables\n",
    "runtimes = {\n",
    "    'tabu search': 30,\n",
    "    'genetic algorithm': 30\n",
    "}\n",
    "\n",
    "output_dir = './jssp_output'"
   ]
  },
  {
   "cell_type": "markdown",
   "metadata": {},
   "source": [
    "### Tabu Search"
   ]
  },
  {
   "cell_type": "code",
   "execution_count": 3,
   "metadata": {},
   "outputs": [
    {
     "name": "stderr",
     "output_type": "stream",
     "text": [
      "|//////////////////////////////////////////////////////////     | ETA:  0:00:02\r"
     ]
    },
    {
     "name": "stdout",
     "output_type": "stream",
     "text": [
      "Best solution found by Tabu Search:\n",
      "makespan = 4090.6746987951806\n",
      "machine_makespans = [4067.1056910569114, 4076.0, 4068.46052631579, 4090.6746987951806, 4065.6216216216217, 4065.7900000000004, 4058.091836734694, 4063.6423841059614]\n",
      "operation_list =\n",
      "[[   36     1     0     6  8454]\n",
      " [    2     0     0     0 19368]\n",
      " [   44     1     0     1 10819]\n",
      " ...\n",
      " [   30     2     1     6 15242]\n",
      " [   32     5     4     3 16111]\n",
      " [   24     6     4     4 14392]]\n"
     ]
    },
    {
     "name": "stderr",
     "output_type": "stream",
     "text": [
      "||||||||||||||||||||||||||||||||||||||||||||||||||||||||||||||||| Time: 0:00:30\n"
     ]
    }
   ],
   "source": [
    "from JSSP.tabu_search import TabuSearchManager\n",
    "\n",
    "# TS parameters\n",
    "ts_runtime = runtimes['tabu search']\n",
    "num_processes = 50\n",
    "tabu_list_size = 50\n",
    "neighborhood_size = 300\n",
    "neighborhood_wait = 0.15\n",
    "probability_change_machine = 0.8\n",
    "\n",
    "ts_manager = TabuSearchManager(ts_runtime, \n",
    "                               num_processes, \n",
    "                               tabu_list_size, \n",
    "                               neighborhood_size, \n",
    "                               neighborhood_wait, \n",
    "                               probability_change_machine)\n",
    "\n",
    "ts_manager.start(progress_bar=True)\n",
    "\n",
    "print(\"Best solution found by Tabu Search:\")\n",
    "ts_manager.best_solution.pprint()"
   ]
  },
  {
   "cell_type": "markdown",
   "metadata": {},
   "source": [
    "### Genetic Algorithm "
   ]
  },
  {
   "cell_type": "code",
   "execution_count": 5,
   "metadata": {},
   "outputs": [
    {
     "name": "stderr",
     "output_type": "stream",
     "text": [
      "||||||||||||||||||||||||||||||||||||||||||||||||||||||||||||||||| Time: 0:00:29\n"
     ]
    },
    {
     "name": "stdout",
     "output_type": "stream",
     "text": [
      "Best solution found by Tabu Search:\n",
      "makespan = 4085.6746987951806\n",
      "machine_makespans = [4052.1056910569114, 4073.0, 4068.46052631579, 4085.6746987951806, 4060.621621621621, 4064.7900000000004, 4040.091836734694, 4061.7382909119924]\n",
      "operation_list =\n",
      "[[   36     1     0     6  8454]\n",
      " [    2     0     0     0 19368]\n",
      " [   44     1     0     1 10819]\n",
      " ...\n",
      " [   37     4     2     2  5851]\n",
      " [   37     5     3     2 18997]\n",
      " [   40     3     3     7  9698]]\n"
     ]
    }
   ],
   "source": [
    "from JSSP.genetic_algorithm import search\n",
    "from JSSP.solution import generate_feasible_solution\n",
    "\n",
    "# GA parameters\n",
    "ga_runtime = runtimes['genetic algorithm']\n",
    "population_size = 100\n",
    "mutation_probability=0.05\n",
    "\n",
    "# create initial population using solutions found by tabu search\n",
    "initial_population = ts_manager.all_solutions\n",
    "\n",
    "# generate random solutions for remaining population\n",
    "for _ in range(abs(population_size - len(initial_population))):\n",
    "    initial_population.append(generate_feasible_solution())\n",
    "    \n",
    "result = search(ga_runtime, initial_population, mutation_probability, progress_bar=True)\n",
    "\n",
    "print(\"Best solution found by Tabu Search:\")\n",
    "result.pprint()\n",
    "\n",
    "# result.create_schedule(output_dir)"
   ]
  },
  {
   "cell_type": "code",
   "execution_count": null,
   "metadata": {},
   "outputs": [],
   "source": []
  }
 ],
 "metadata": {
  "kernelspec": {
   "display_name": "Python 3",
   "language": "python",
   "name": "python3"
  },
  "language_info": {
   "codemirror_mode": {
    "name": "ipython",
    "version": 3
   },
   "file_extension": ".py",
   "mimetype": "text/x-python",
   "name": "python",
   "nbconvert_exporter": "python",
   "pygments_lexer": "ipython3",
   "version": "3.6.7"
  }
 },
 "nbformat": 4,
 "nbformat_minor": 2
}
