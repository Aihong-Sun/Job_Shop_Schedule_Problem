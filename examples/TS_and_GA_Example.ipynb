{
 "cells": [
  {
   "cell_type": "markdown",
   "metadata": {
    "pycharm": {}
   },
   "source": [
    "## JSSP Tabu Search and Genetic Algorithm Example\n",
    "\n",
    "This notebook demonstraits how to use both prallel tabu seach and the genetic algorithm."
   ]
  },
  {
   "cell_type": "code",
   "execution_count": 1,
   "metadata": {
    "pycharm": {}
   },
   "outputs": [],
   "source": [
    "from JSSP.data import Data\n",
    "import os\n",
    "\n",
    "# initialize data\n",
    "data_directory = '../data/given_data'\n",
    "Data.initialize_data_from_csv(data_directory + '/sequenceDependencyMatrix.csv',\n",
    "                              data_directory + '/machineRunSpeed.csv',\n",
    "                              data_directory + '/jobTasks.csv')\n",
    "\n",
    "# uncomment this to print the data that was read in\n",
    "# Data.print_data()"
   ]
  },
  {
   "cell_type": "markdown",
   "metadata": {
    "pycharm": {}
   },
   "source": [
    "### Tabu Search Before Genetic Algorithm"
   ]
  },
  {
   "cell_type": "code",
   "execution_count": 3,
   "metadata": {
    "pycharm": {}
   },
   "outputs": [
    {
     "name": "stderr",
     "output_type": "stream",
     "text": [
      "||||||||||||||||||||||||||||||||||||||||||||||||||||||||||||||||| Time: 0:02:29\n"
     ]
    },
    {
     "name": "stdout",
     "output_type": "stream",
     "text": [
      "Tabu Search Solution:\n",
      "makespan = 4060.913793103448\n",
      "machine_makespans = [4058.040650406504, 4060.913793103448, 4058.3552631578955, 4008.734939759036, 4044.8918918918916, 4015.269999999999, 4021.3163265306125, 4043.543046357617]\n",
      "operation_list =\n",
      "[[   21     0     0     5 19015]\n",
      " [   43     0     0     7  7688]\n",
      " [   28     1     0     5  9295]\n",
      " ...\n",
      " [   31     6     5     2 23583]\n",
      " [   44     5     4     0 10137]\n",
      " [   47     2     2     4 12399]]\n"
     ]
    },
    {
     "name": "stderr",
     "output_type": "stream",
     "text": [
      "||||||||||||||||||||||||||||||||||||||||||||||||||||||||||||||||| Time: 0:02:27\n"
     ]
    },
    {
     "name": "stdout",
     "output_type": "stream",
     "text": [
      "Genetic Algorithm Solution:\n",
      "makespan = 4060.913793103448\n",
      "machine_makespans = [4058.040650406504, 4060.913793103448, 4058.3552631578955, 4008.734939759036, 4044.8918918918916, 4015.269999999999, 4021.3163265306125, 4043.543046357617]\n",
      "operation_list =\n",
      "[[   21     0     0     5 19015]\n",
      " [   43     0     0     7  7688]\n",
      " [   28     1     0     5  9295]\n",
      " ...\n",
      " [   31     6     5     2 23583]\n",
      " [   44     5     4     0 10137]\n",
      " [   47     2     2     4 12399]]\n",
      "opening file:///home/mcfadd/Job_Shop_Schedule_Problem/examples/example_output/example_benchmark in browser\n"
     ]
    }
   ],
   "source": [
    "from JSSP.solver import Solver\n",
    "\n",
    "output_dir = './example_output'\n",
    "output_results = True\n",
    "auto_open = True\n",
    "verbose = False\n",
    "benchmark = True\n",
    "progress_bar = True\n",
    "\n",
    "# ts parameters\n",
    "runtime = 150 # in seconds\n",
    "num_processes = 10\n",
    "tabu_list_size = 50\n",
    "neighborhood_size = 400\n",
    "neighborhood_wait = 0.12\n",
    "probability_change_machine = 0.8\n",
    "reset_threshold = 100\n",
    "\n",
    "# ga parameters\n",
    "runtime = 150 # in seconds\n",
    "mutation_probability = 0.8\n",
    "population_size = 120\n",
    "selection_size = 6\n",
    "population = []\n",
    "\n",
    "# create solver\n",
    "solver = Solver()\n",
    "\n",
    "# run tabu seach\n",
    "solution = solver.tabu_search(runtime,\n",
    "                              num_processes,\n",
    "                              tabu_list_size,\n",
    "                              neighborhood_size,\n",
    "                              neighborhood_wait,\n",
    "                              probability_change_machine,\n",
    "                              reset_threshold,\n",
    "                              benchmark=benchmark,\n",
    "                              verbose=verbose,\n",
    "                              progress_bar=progress_bar\n",
    "                              )\n",
    "    \n",
    "print('Tabu Search Solution:')\n",
    "solution.pprint()\n",
    "\n",
    "# add all tabu search solutions to population\n",
    "population += solver.ts_all_solutions\n",
    "\n",
    "# run genetic algorithm\n",
    "solution = solver.genetic_algorithm(runtime, \n",
    "                                    population, \n",
    "                                    population_size, \n",
    "                                    mutation_probability, \n",
    "                                    selection_size, \n",
    "                                    benchmark=benchmark,\n",
    "                                    verbose=verbose,\n",
    "                                    progress_bar=progress_bar\n",
    "                                    )\n",
    "\n",
    "print('Genetic Algorithm Solution:')\n",
    "solution.pprint()\n",
    "\n",
    "if output_results:\n",
    "    if benchmark:\n",
    "        solver.output_benchmark_results(output_dir, name='example_benchmark', auto_open=auto_open)\n",
    "    else:\n",
    "        solution.create_schedule(output_dir)"
   ]
  },
  {
   "cell_type": "markdown",
   "metadata": {
    "pycharm": {}
   },
   "source": [
    "### Genetic Algorithm Before Tabu Search"
   ]
  },
  {
   "cell_type": "code",
   "execution_count": 5,
   "metadata": {
    "pycharm": {}
   },
   "outputs": [
    {
     "name": "stdout",
     "output_type": "stream",
     "text": [
      "Genetic Algorithm Solution:\n",
      "makespan = 4953.255102040816\n",
      "machine_makespans = [4784.310270449644, 4931.424700914849, 4875.052631578947, 4696.192771084337, 4016.5405405405413, 4921.30861788618, 4953.255102040816, 4171.747871333964]\n",
      "operation_list =\n",
      "[[   43     0     0     5  7688]\n",
      " [   13     0     0     4 17404]\n",
      " [   19     0     0     2 23693]\n",
      " ...\n",
      " [   34     4     2     6 18747]\n",
      " [   36     3     2     1  9829]\n",
      " [   42     2     2     3 17151]]\n",
      "Tabu Search Solution:\n",
      "makespan = 4069.3157894736846\n",
      "machine_makespans = [4060.634146341464, 4030.3634764250532, 4069.3157894736846, 4064.144578313253, 4061.3471182025405, 4064.4199999999996, 4052.1938775510207, 4045.8874172185433]\n",
      "operation_list =\n",
      "[[   14     0     0     6 14120]\n",
      " [   12     0     0     7  8191]\n",
      " [    4     1     0     4 14753]\n",
      " ...\n",
      " [   44     5     4     5 10137]\n",
      " [   45     2     0     7 12334]\n",
      " [   42     2     2     3 17151]]\n"
     ]
    }
   ],
   "source": [
    "from JSSP.solver import Solver\n",
    "\n",
    "output_dir = './example_output'\n",
    "output_results = False\n",
    "auto_open = False\n",
    "verbose = False\n",
    "benchmark = False\n",
    "progress_bar = False\n",
    "\n",
    "# ts parameters\n",
    "runtime = 10 # in seconds\n",
    "num_processes = 2\n",
    "tabu_list_size = 50\n",
    "neighborhood_size = 250\n",
    "neighborhood_wait = 0.1\n",
    "probability_change_machine = 0.8\n",
    "reset_threshold = 100\n",
    "\n",
    "# ga parameters\n",
    "runtime = 10 # in seconds\n",
    "mutation_probability = 0.8\n",
    "population_size = 200\n",
    "selection_size = 5\n",
    "population = []\n",
    "\n",
    "# create solver\n",
    "solver = Solver()\n",
    "\n",
    "# run geneitc algorithm\n",
    "solution = solver.genetic_algorithm(runtime, \n",
    "                                    population, \n",
    "                                    population_size, \n",
    "                                    mutation_probability, \n",
    "                                    selection_size, \n",
    "                                    benchmark=benchmark, \n",
    "                                    progress_bar=progress_bar\n",
    "                                    )\n",
    "\n",
    "print('Genetic Algorithm Solution:')\n",
    "solution.pprint()\n",
    "\n",
    "# pass best solutions found to tabu search\n",
    "initial_solutions = sorted(solver.ga_result_population)[:num_processes]\n",
    "\n",
    "# run tabu seach\n",
    "solution = solver.tabu_search(runtime,\n",
    "                              num_processes,\n",
    "                              tabu_list_size,\n",
    "                              neighborhood_size,\n",
    "                              neighborhood_wait,\n",
    "                              probability_change_machine,\n",
    "                              reset_threshold,\n",
    "                              initial_solutions=initial_solutions,\n",
    "                              benchmark=benchmark,\n",
    "                              verbose=verbose,\n",
    "                              progress_bar=progress_bar\n",
    "                              )\n",
    "    \n",
    "print('Tabu Search Solution:')\n",
    "solution.pprint()\n",
    "\n",
    "if output_results:\n",
    "    if benchmark:\n",
    "        solver.output_benchmark_results(output_dir, name='example_benchmark', auto_open=auto_open)\n",
    "    else:\n",
    "        solution.create_schedule(output_dir)"
   ]
  },
  {
   "cell_type": "code",
   "execution_count": null,
   "metadata": {
    "pycharm": {}
   },
   "outputs": [],
   "source": []
  }
 ],
 "metadata": {
  "kernelspec": {
   "display_name": "Python 3",
   "language": "python",
   "name": "python3"
  },
  "language_info": {
   "codemirror_mode": {
    "name": "ipython",
    "version": 3
   },
   "file_extension": ".py",
   "mimetype": "text/x-python",
   "name": "python",
   "nbconvert_exporter": "python",
   "pygments_lexer": "ipython3",
   "version": "3.6.7"
  },
  "pycharm": {
   "stem_cell": {
    "cell_type": "raw",
    "source": [],
    "metadata": {
     "collapsed": false
    }
   }
  }
 },
 "nbformat": 4,
 "nbformat_minor": 2
}