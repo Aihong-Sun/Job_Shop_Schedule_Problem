{
 "cells": [
  {
   "cell_type": "markdown",
   "metadata": {},
   "source": [
    "## JSSP Tabu Search and Genetic Algorithm Example\n",
    "\n",
    "This notebook demonstraits how to use both prallel tabu seach and the genetic algorithm."
   ]
  },
  {
   "cell_type": "code",
   "execution_count": 1,
   "metadata": {},
   "outputs": [],
   "source": [
    "from JSSP.data import Data\n",
    "import os\n",
    "\"\"\"\n",
    "initialize static data from csv files\n",
    "\"\"\"\n",
    "data_directory = '../data/data_set2'\n",
    "Data.initialize_data_from_csv(data_directory + '/sequenceDependencyMatrix.csv',\n",
    "                              data_directory + '/machineRunSpeed.csv',\n",
    "                              data_directory + '/jobTasks.csv')\n",
    "\n",
    "# uncomment this to print the data that was read in\n",
    "# Data.print_data()"
   ]
  },
  {
   "cell_type": "markdown",
   "metadata": {},
   "source": [
    "### Tabu Search Before Genetic Algorithm"
   ]
  },
  {
   "cell_type": "code",
   "execution_count": 2,
   "metadata": {},
   "outputs": [
    {
     "name": "stderr",
     "output_type": "stream",
     "text": [
      "|//////////////////////////////////////////////////////////     | ETA:  0:00:02\r"
     ]
    },
    {
     "name": "stdout",
     "output_type": "stream",
     "text": [
      "Best solution found by Tabu Search:\n",
      "makespan = 4064.969387755103\n",
      "machine_makespans = [4060.19512195122, 3995.0344827586205, 4013.105263157895, 4050.877852874915, 4049.3333333333326, 4025.190000000001, 4064.969387755103, 4055.3907284768225]\n",
      "operation_list =\n",
      "[[   17     0     0     6 11056]\n",
      " [   10     0     0     0  9515]\n",
      " [   46     0     0     4 16423]\n",
      " ...\n",
      " [   21     5     3     3 22744]\n",
      " [   30     3     1     6 14015]\n",
      " [    0     6     4     3 20115]]\n"
     ]
    },
    {
     "name": "stderr",
     "output_type": "stream",
     "text": [
      "|------------------------------------------------------------   | ETA:  0:00:01\n",
      "||||||||||||||||||||||||||||||||||||||||||||||||||||||||||||||||| Time: 0:00:29\n"
     ]
    },
    {
     "name": "stdout",
     "output_type": "stream",
     "text": [
      "Best solution found by Genetic Algorithm:\n",
      "makespan = 4064.969387755103\n",
      "machine_makespans = [4060.19512195122, 3995.0344827586205, 4013.105263157895, 4050.877852874915, 4049.3333333333326, 4025.190000000001, 4064.969387755103, 4055.3907284768225]\n",
      "operation_list =\n",
      "[[   17     0     0     6 11056]\n",
      " [   10     0     0     0  9515]\n",
      " [   46     0     0     4 16423]\n",
      " ...\n",
      " [   21     5     3     3 22744]\n",
      " [   30     3     1     6 14015]\n",
      " [    0     6     4     3 20115]]\n"
     ]
    }
   ],
   "source": [
    "from JSSP.tabu_search import TabuSearchManager\n",
    "from JSSP.genetic_algorithm import search\n",
    "from JSSP.solution import generate_feasible_solution\n",
    "\n",
    "# TS parameters\n",
    "ts_runtime = 30\n",
    "num_processes = 6\n",
    "tabu_list_size = 50\n",
    "neighborhood_size = 350\n",
    "neighborhood_wait = 0.15\n",
    "probability_change_machine = 0.8\n",
    "\n",
    "# GA parameters\n",
    "ga_runtime = 30\n",
    "population_size = 200\n",
    "mutation_probability=0.05\n",
    "\n",
    "# run parallel TS\n",
    "ts_manager = TabuSearchManager(ts_runtime, \n",
    "                               num_processes, \n",
    "                               tabu_list_size, \n",
    "                               neighborhood_size, \n",
    "                               neighborhood_wait, \n",
    "                               probability_change_machine)\n",
    "\n",
    "ts_manager.start(progress_bar=True)\n",
    "\n",
    "print(\"Best solution found by Tabu Search:\")\n",
    "ts_manager.best_solution.pprint()\n",
    "\n",
    "# create population using solutions found by tabu search\n",
    "initial_population = ts_manager.all_solutions\n",
    "\n",
    "# generate random solutions for remaining population\n",
    "for _ in range(abs(population_size - len(initial_population))):\n",
    "    initial_population.append(generate_feasible_solution())\n",
    "\n",
    "# run GA\n",
    "best_solution = search(ga_runtime, initial_population, mutation_probability, progress_bar=True)\n",
    "\n",
    "print(\"Best solution found by Genetic Algorithm:\")\n",
    "best_solution.pprint()\n",
    "\n",
    "# output_dir = './jssp_output'\n",
    "# best_solution.create_schedule(output_dir)"
   ]
  },
  {
   "cell_type": "markdown",
   "metadata": {},
   "source": [
    "### Genetic Algorithm Before Tabu Search"
   ]
  },
  {
   "cell_type": "code",
   "execution_count": 3,
   "metadata": {},
   "outputs": [
    {
     "name": "stderr",
     "output_type": "stream",
     "text": [
      "|////////////////////////////////////////////////////////////   | ETA:  0:00:01\n",
      "||||||||||||||||||||||||||||||||||||||||||||||||||||||||||||||||| Time: 0:00:29\r"
     ]
    },
    {
     "name": "stdout",
     "output_type": "stream",
     "text": [
      "Best solution found by Genetic Algorithm:\n",
      "makespan = 4834.990990990992\n",
      "machine_makespans = [4580.073008130082, 4542.6551724137935, 4724.710526315789, 4766.999999999999, 4834.990990990992, 4667.83, 4621.793714429645, 4172.109271523179]\n",
      "operation_list =\n",
      "[[    1     0     0     6 22455]\n",
      " [   13     1     0     3 11007]\n",
      " [   15     0     0     5 16301]\n",
      " ...\n",
      " [   24     5     3     4 21549]\n",
      " [   24     6     4     4 14392]\n",
      " [    0     6     4     6 20115]]\n",
      "Initial Solution's makespans:\n",
      "[4835, 4835, 4835, 4835, 4835, 4835]\n",
      "\n",
      "child TS process started. pid = 7281\n",
      "child TS process started. pid = 7282\n",
      "child TS process started. pid = 7283\n",
      "child TS process started. pid = 7284\n",
      "child TS process started. pid = 7285\n",
      "child TS process started. pid = 7286\n"
     ]
    },
    {
     "name": "stderr",
     "output_type": "stream",
     "text": [
      "|||||||||||||||||||||||||||||||||||||||||||||||||||||||||||     | ETA:  0:00:02\r"
     ]
    },
    {
     "name": "stdout",
     "output_type": "stream",
     "text": [
      "child TS process finished. pid = 7281\n",
      "child TS process finished. pid = 7282\n",
      "child TS process finished. pid = 7283\n",
      "child TS process finished. pid = 7284\n",
      "child TS process finished. pid = 7285\n",
      "child TS process finished. pid = 7286\n",
      "collecting results from tmp directory\n",
      "Best solution found by Tabu Search:\n",
      "makespan = 4071.5394736842113\n",
      "machine_makespans = [4050.772357723578, 3997.2241379310344, 4071.5394736842113, 4011.0963855421683, 4029.1621621621616, 4047.3700000000003, 4057.897959183673, 4034.682119205299]\n",
      "operation_list =\n",
      "[[   35     0     0     0  6339]\n",
      " [    5     0     0     4 19299]\n",
      " [   34     0     0     7 11834]\n",
      " ...\n",
      " [   32     5     4     0 16111]\n",
      " [   48     4     4     1  8556]\n",
      " [    3     5     3     3 10208]]\n"
     ]
    },
    {
     "name": "stderr",
     "output_type": "stream",
     "text": [
      "||||||||||||||||||||||||||||||||||||||||||||||||||||||||||||||||| Time: 0:00:29\n"
     ]
    }
   ],
   "source": [
    "from JSSP import genetic_algorithm\n",
    "from JSSP import tabu_search\n",
    "from JSSP.solution import generate_feasible_solution\n",
    "\n",
    "# GA parameters\n",
    "ga_runtime = 30\n",
    "population_size = 200\n",
    "mutation_probability=0.25\n",
    "\n",
    "# TS parameters\n",
    "ts_runtime = 30\n",
    "num_processes = 6\n",
    "tabu_list_size = 50\n",
    "neighborhood_size = 350\n",
    "neighborhood_wait = 0.15\n",
    "probability_change_machine = 0.8\n",
    "\n",
    "\n",
    "initial_population= [generate_feasible_solution() for _ in range(population_size)]\n",
    "\n",
    "# run GA \n",
    "result = genetic_algorithm.search(ga_runtime, initial_population, mutation_probability, progress_bar=True)\n",
    "\n",
    "print(\"Best solution found by Genetic Algorithm:\")\n",
    "result.pprint()\n",
    "\n",
    "# get best solutions found from GA\n",
    "initial_solutions=sorted(initial_population)[:num_processes]\n",
    "\n",
    "# run parallel TS\n",
    "ts_manager = tabu_search.TabuSearchManager(ts_runtime, \n",
    "                                           num_processes, \n",
    "                                           tabu_list_size, \n",
    "                                           neighborhood_size, \n",
    "                                           neighborhood_wait, \n",
    "                                           probability_change_machine,\n",
    "                                           initial_solutions=initial_solutions)\n",
    "\n",
    "ts_manager.start(progress_bar=True, verbose=True)\n",
    "\n",
    "print(\"Best solution found by Tabu Search:\")\n",
    "best_solution = ts_manager.best_solution\n",
    "best_solution.pprint()\n",
    "\n",
    "# output_dir = './jssp_output'\n",
    "# best_solution.create_schedule(output_dir)"
   ]
  },
  {
   "cell_type": "code",
   "execution_count": null,
   "metadata": {},
   "outputs": [],
   "source": []
  }
 ],
 "metadata": {
  "kernelspec": {
   "display_name": "Python 3",
   "language": "python",
   "name": "python3"
  },
  "language_info": {
   "codemirror_mode": {
    "name": "ipython",
    "version": 3
   },
   "file_extension": ".py",
   "mimetype": "text/x-python",
   "name": "python",
   "nbconvert_exporter": "python",
   "pygments_lexer": "ipython3",
   "version": "3.6.7"
  }
 },
 "nbformat": 4,
 "nbformat_minor": 2
}
