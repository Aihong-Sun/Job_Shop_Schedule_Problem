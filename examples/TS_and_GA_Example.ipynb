{
 "cells": [
  {
   "cell_type": "markdown",
   "metadata": {},
   "source": [
    "## JSSP Example\n",
    "\n",
    "This notebook demonstraits how to use prallel tabu seach to generate a an initial population for a genetic algorithm."
   ]
  },
  {
   "cell_type": "code",
   "execution_count": 1,
   "metadata": {},
   "outputs": [],
   "source": [
    "from JSSP.data import Data\n",
    "import os\n",
    "\"\"\"\n",
    "initialize static data from csv files\n",
    "\"\"\"\n",
    "data_directory = '../data/data_set2'\n",
    "Data.initialize_data_from_csv(data_directory + '/sequenceDependencyMatrix.csv',\n",
    "                              data_directory + '/machineRunSpeed.csv',\n",
    "                              data_directory + '/jobTasks.csv')\n",
    "\n",
    "# uncomment this to print the data that was read in\n",
    "# Data.print_data()"
   ]
  },
  {
   "cell_type": "code",
   "execution_count": 2,
   "metadata": {},
   "outputs": [],
   "source": [
    "# global variables\n",
    "runtimes = {\n",
    "    'tabu search': 30,\n",
    "    'genetic algorithm': 30\n",
    "}\n",
    "\n",
    "output_dir = './jssp_output'"
   ]
  },
  {
   "cell_type": "markdown",
   "metadata": {},
   "source": [
    "### Tabu Search"
   ]
  },
  {
   "cell_type": "code",
   "execution_count": 3,
   "metadata": {},
   "outputs": [
    {
     "name": "stdout",
     "output_type": "stream",
     "text": [
      "Best solution found by Tabu Search:\n",
      "makespan = 4083.3907284768225\n",
      "machine_makespans = [4066.365853658536, 4075.2068965517237, 4069.513157894736, 4056.325301204819, 4083.1441441441443, 4066.7877108433736, 4081.7448979591836, 4083.3907284768225]\n",
      "operation_list =\n",
      "[[   28     0     0     7 12651]\n",
      " [    7     0     0     7 24441]\n",
      " [   14     1     0     6 12719]\n",
      " ...\n",
      " [    6     5     2     0  6053]\n",
      " [    0     6     4     7 20115]\n",
      " [    8     2     1     0 10343]]\n"
     ]
    }
   ],
   "source": [
    "from JSSP.tabu_search import TabuSearchManager\n",
    "\n",
    "# TS parameters\n",
    "ts_runtime = runtimes['tabu search']\n",
    "num_processes = 50\n",
    "tabu_list_size = 50\n",
    "neighborhood_size = 300\n",
    "neighborhood_wait = 0.15\n",
    "probability_change_machine = 0.8\n",
    "\n",
    "ts_manager = TabuSearchManager(ts_runtime, \n",
    "                               num_processes, \n",
    "                               tabu_list_size, \n",
    "                               neighborhood_size, \n",
    "                               neighborhood_wait, \n",
    "                               probability_change_machine)\n",
    "\n",
    "ts_manager.start()\n",
    "\n",
    "print(\"Best solution found by Tabu Search:\")\n",
    "ts_manager.best_solution.pprint()"
   ]
  },
  {
   "cell_type": "markdown",
   "metadata": {},
   "source": [
    "### Genetic Algorithm "
   ]
  },
  {
   "cell_type": "code",
   "execution_count": 4,
   "metadata": {},
   "outputs": [
    {
     "name": "stdout",
     "output_type": "stream",
     "text": [
      "found best solution at iteration 3779\n",
      "found best solution at iteration 4603\n",
      "found best solution at iteration 4925\n",
      "found best solution at iteration 29661\n",
      "found best solution at iteration 31132\n",
      "found best solution at iteration 36049\n",
      "found best solution at iteration 36915\n",
      "found best solution at iteration 53234\n",
      "found best solution at iteration 100780\n",
      "found best solution at iteration 121143\n",
      "found best solution at iteration 121500\n",
      "found best solution at iteration 134519\n",
      "found best solution at iteration 135288\n",
      "found best solution at iteration 139128\n",
      "total iterations = 147035\n",
      "total number of infeasible solutions generated = 72611\n",
      "Best solution found by Tabu Search:\n",
      "makespan = 4082.1441441441443\n",
      "machine_makespans = [4059.365853658536, 4075.2068965517237, 4067.513157894736, 4056.325301204819, 4082.1441441441443, 4057.7877108433736, 4077.7448979591836, 4078.3907284768225]\n",
      "operation_list =\n",
      "[[   28     0     0     7 12651]\n",
      " [    7     0     0     7 24441]\n",
      " [   14     1     0     6 12719]\n",
      " ...\n",
      " [   24     6     4     4 14392]\n",
      " [    5     1     1     6 10311]\n",
      " [    5     4     2     6 16471]]\n"
     ]
    }
   ],
   "source": [
    "from JSSP.genetic_algorithm import search\n",
    "from JSSP.solution import generate_feasible_solution\n",
    "\n",
    "# GA parameters\n",
    "ga_runtime = runtimes['genetic algorithm']\n",
    "population_size = 100\n",
    "mutation_probability=0.05\n",
    "\n",
    "# create initial population using solutions found by tabu search\n",
    "initial_population = ts_manager.all_solutions\n",
    "\n",
    "# generate random solutions for remaining population\n",
    "for _ in range(abs(population_size - len(initial_population))):\n",
    "    initial_population.append(generate_feasible_solution())\n",
    "    \n",
    "result = search(ga_runtime, initial_population, mutation_probability, verbose=True)\n",
    "\n",
    "print(\"Best solution found by Tabu Search:\")\n",
    "result.pprint()\n",
    "\n",
    "# result.create_schedule(output_dir)"
   ]
  }
 ],
 "metadata": {
  "kernelspec": {
   "display_name": "Python 3",
   "language": "python",
   "name": "python3"
  },
  "language_info": {
   "codemirror_mode": {
    "name": "ipython",
    "version": 3
   },
   "file_extension": ".py",
   "mimetype": "text/x-python",
   "name": "python",
   "nbconvert_exporter": "python",
   "pygments_lexer": "ipython3",
   "version": "3.6.7"
  }
 },
 "nbformat": 4,
 "nbformat_minor": 2
}
