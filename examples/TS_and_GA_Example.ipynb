{
 "cells": [
  {
   "cell_type": "markdown",
   "metadata": {},
   "source": [
    "## JSSP Example\n",
    "\n",
    "This notebook demonstraits how to use prallel tabu seach to generate a an initial population for a genetic algorithm."
   ]
  },
  {
   "cell_type": "code",
   "execution_count": 1,
   "metadata": {},
   "outputs": [],
   "source": [
    "from JSSP.data import Data\n",
    "import os\n",
    "\"\"\"\n",
    "initialize static data from csv files\n",
    "\"\"\"\n",
    "data_directory = '../data/data_set2'\n",
    "Data.initialize_data(data_directory + '/sequenceDependencyMatrix.csv',\n",
    "                     data_directory + '/machineRunSpeed.csv',\n",
    "                     data_directory + '/jobTasks.csv')\n",
    "\n",
    "# uncomment this to print the data that was read in\n",
    "# Data.print_data()"
   ]
  },
  {
   "cell_type": "code",
   "execution_count": 2,
   "metadata": {},
   "outputs": [],
   "source": [
    "# global variables\n",
    "runtimes = {\n",
    "    'tabu search': 300,\n",
    "    'genetic algorithm': 300\n",
    "}\n",
    "\n",
    "output_dir = './jssp_output'"
   ]
  },
  {
   "cell_type": "markdown",
   "metadata": {},
   "source": [
    "### Tabu Search"
   ]
  },
  {
   "cell_type": "code",
   "execution_count": 3,
   "metadata": {},
   "outputs": [
    {
     "name": "stdout",
     "output_type": "stream",
     "text": [
      "Best solution found by Tabu Search:\n",
      "makespan = 4057.0162601626016\n",
      "machine_makespans = [4057.0162601626016, 4043.3620689655177, 4031.0789473684213, 4052.3975903614464, 4028.5495495495497, 4036.9399999999996, 4037.428571428571, 4033.8874172185433]\n",
      "operation_list =\n",
      "[[   14     0     0     0 14120]\n",
      " [    0     0     0     5 19116]\n",
      " [   35     0     0     5  6339]\n",
      " ...\n",
      " [   31     6     5     2 23583]\n",
      " [    6     4     2     0  7660]\n",
      " [   44     5     4     7 10137]]\n"
     ]
    }
   ],
   "source": [
    "from JSSP.tabu_search import TabuSearchManager\n",
    "\n",
    "# TS parameters\n",
    "ts_runtime = runtimes['tabu search']\n",
    "num_processes = 50\n",
    "tabu_list_size = 50\n",
    "neighborhood_size = 300\n",
    "neighborhood_wait = 0.15\n",
    "probability_change_machine = 0.8\n",
    "\n",
    "ts_manager = TabuSearchManager(ts_runtime, \n",
    "                               num_processes, \n",
    "                               tabu_list_size, \n",
    "                               neighborhood_size, \n",
    "                               neighborhood_wait, \n",
    "                               probability_change_machine)\n",
    "\n",
    "ts_manager.start()\n",
    "\n",
    "print(\"Best solution found by Tabu Search:\")\n",
    "ts_manager.best_solution.pprint()"
   ]
  },
  {
   "cell_type": "markdown",
   "metadata": {},
   "source": [
    "### Genetic Algorithm "
   ]
  },
  {
   "cell_type": "code",
   "execution_count": 4,
   "metadata": {},
   "outputs": [
    {
     "name": "stdout",
     "output_type": "stream",
     "text": [
      "total iterations = 1713523\n",
      "total number of infeasible solutions generated = 33944\n",
      "Best solution found by Tabu Search:\n",
      "makespan = 4057.0162601626016\n",
      "machine_makespans = [4057.0162601626016, 4043.3620689655177, 4031.0789473684213, 4052.3975903614464, 4028.5495495495497, 4036.9399999999996, 4037.428571428571, 4033.8874172185433]\n",
      "operation_list =\n",
      "[[   14     0     0     0 14120]\n",
      " [    0     0     0     5 19116]\n",
      " [   35     0     0     5  6339]\n",
      " ...\n",
      " [   31     6     5     2 23583]\n",
      " [    6     4     2     0  7660]\n",
      " [   44     5     4     7 10137]]\n"
     ]
    }
   ],
   "source": [
    "from JSSP.genetic_algorithm import search\n",
    "from JSSP.solution import generate_feasible_solution\n",
    "\n",
    "# GA parameters\n",
    "ga_runtime = runtimes['genetic algorithm']\n",
    "population_size = 100\n",
    "mutation_probability=0.05\n",
    "\n",
    "# create initial population using solutions found by tabu search\n",
    "initial_population = ts_manager.all_solutions\n",
    "\n",
    "# generate random solutions for remaining population\n",
    "for _ in range(abs(population_size - len(initial_population))):\n",
    "    initial_population.append(generate_feasible_solution())\n",
    "    \n",
    "result = search(ga_runtime, initial_population, mutation_probability, verbose=True)\n",
    "\n",
    "print(\"Best solution found by Tabu Search:\")\n",
    "result.pprint()\n",
    "\n",
    "# result.create_schedule(output_dir)"
   ]
  }
 ],
 "metadata": {
  "kernelspec": {
   "display_name": "Python 3",
   "language": "python",
   "name": "python3"
  },
  "language_info": {
   "codemirror_mode": {
    "name": "ipython",
    "version": 3
   },
   "file_extension": ".py",
   "mimetype": "text/x-python",
   "name": "python",
   "nbconvert_exporter": "python",
   "pygments_lexer": "ipython3",
   "version": "3.6.7"
  }
 },
 "nbformat": 4,
 "nbformat_minor": 2
}
