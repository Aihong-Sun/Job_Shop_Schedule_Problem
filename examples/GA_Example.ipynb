{
 "cells": [
  {
   "cell_type": "markdown",
   "metadata": {
    "pycharm": {}
   },
   "source": [
    "## JSSP Genetic Algorithm Example\n",
    "\n",
    "This notebook demonstraits how to use the genertic algorithm."
   ]
  },
  {
   "cell_type": "code",
   "execution_count": 1,
   "metadata": {
    "pycharm": {}
   },
   "outputs": [],
   "source": [
    "from JSSP.data import Data\n",
    "\n",
    "# initialize data\n",
    "data_directory = '../data/given_data'\n",
    "Data.initialize_data_from_csv(data_directory + '/sequenceDependencyMatrix.csv',\n",
    "                              data_directory + '/machineRunSpeed.csv',\n",
    "                              data_directory + '/jobTasks.csv')\n",
    "\n",
    "# uncomment this to print the data that was read in\n",
    "# Data.print_data()"
   ]
  },
  {
   "cell_type": "code",
   "execution_count": 2,
   "metadata": {
    "pycharm": {}
   },
   "outputs": [
    {
     "name": "stdout",
     "output_type": "stream",
     "text": [
      "Parameters:\n",
      "runtime = 30\n",
      "mutation probability = 0.8\n",
      "selection size = 5\n",
      "population size = 200\n",
      "\n",
      "Solution\n",
      "makespan = 4619.4655172413795\n",
      "machine_makespans = [4395.4081775687555, 4619.4655172413795, 4431.0, 4389.602423351946, 4490.217844350374, 4357.474471544716, 4372.707248416607, 4505.683717743777]\n",
      "operation_list =\n",
      "[[   33     0     0     5 11149]\n",
      " [   35     0     0     2  6339]\n",
      " [    0     0     0     4 19116]\n",
      " ...\n",
      " [    3     3     2     5 22582]\n",
      " [    3     5     3     3 10208]\n",
      " [    3     4     3     5  8886]]\n"
     ]
    }
   ],
   "source": [
    "from JSSP.solver import Solver\n",
    "\n",
    "output_dir = './example_output'\n",
    "\n",
    "# optional\n",
    "output_results = False\n",
    "auto_open = False\n",
    "benchmark = False\n",
    "verbose = False\n",
    "progress_bar = False\n",
    "\n",
    "# ga parameters\n",
    "runtime = 30 # in seconds\n",
    "mutation_probability = 0.8\n",
    "population = None\n",
    "population_size = 200\n",
    "selection_size = 5\n",
    "\n",
    "# create solver\n",
    "solver = Solver()\n",
    "\n",
    "# run genetic algorithm\n",
    "solution = solver.genetic_algorithm(runtime, \n",
    "                                    population, \n",
    "                                    population_size, \n",
    "                                    mutation_probability, \n",
    "                                    selection_size, \n",
    "                                    benchmark=benchmark,\n",
    "                                    varbose=verbose,\n",
    "                                    progress_bar=progress_bar)\n",
    "\n",
    "print('Parameters:')\n",
    "for param, val in solver.ga_parameters.items():\n",
    "    if param != 'population':\n",
    "        print(param, '=' ,val)\n",
    "    \n",
    "print('\\nSolution')\n",
    "solution.pprint()\n",
    "\n",
    "\n",
    "if output_results:\n",
    "    if benchmark:\n",
    "        solver.output_benchmark_results(output_dir, name='example_benchmark', auto_open=auto_open)\n",
    "    else:\n",
    "        solution.create_schedule(output_dir)"
   ]
  },
  {
   "cell_type": "code",
   "execution_count": null,
   "metadata": {
    "pycharm": {}
   },
   "outputs": [],
   "source": []
  }
 ],
 "metadata": {
  "kernelspec": {
   "display_name": "Python 3",
   "language": "python",
   "name": "python3"
  },
  "language_info": {
   "codemirror_mode": {
    "name": "ipython",
    "version": 3
   },
   "file_extension": ".py",
   "mimetype": "text/x-python",
   "name": "python",
   "nbconvert_exporter": "python",
   "pygments_lexer": "ipython3",
   "version": "3.6.7"
  },
  "pycharm": {
   "stem_cell": {
    "cell_type": "raw",
    "source": [],
    "metadata": {
     "collapsed": false
    }
   }
  }
 },
 "nbformat": 4,
 "nbformat_minor": 2
}