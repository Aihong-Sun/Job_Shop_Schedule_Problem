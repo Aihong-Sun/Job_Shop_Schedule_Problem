{
 "cells": [
  {
   "cell_type": "markdown",
   "metadata": {
    "pycharm": {}
   },
   "source": [
    "## JSSP Genetic Algorithm Example\n",
    "\n",
    "This notebook demonstraits how to use the genertic algorithm."
   ]
  },
  {
   "cell_type": "code",
   "execution_count": 1,
   "metadata": {
    "pycharm": {}
   },
   "outputs": [],
   "source": [
    "from JSSP.data import Data\n",
    "\n",
    "# initialize data\n",
    "data_directory = '../data/given_data'\n",
    "Data.initialize_data_from_csv(data_directory + '/sequenceDependencyMatrix.csv',\n",
    "                              data_directory + '/machineRunSpeed.csv',\n",
    "                              data_directory + '/jobTasks.csv')\n",
    "\n",
    "# uncomment this to print the data that was read in\n",
    "# Data.print_data()"
   ]
  },
  {
   "cell_type": "code",
   "execution_count": 2,
   "metadata": {
    "pycharm": {}
   },
   "outputs": [
    {
     "name": "stdout",
     "output_type": "stream",
     "text": [
      "Parameters:\n",
      "stopping condition = 10\n",
      "time condition = True\n",
      "mutation probability = 0.8\n",
      "selection size = 5\n",
      "population size = 200\n",
      "\n",
      "Solution\n",
      "makespan = 4635.561224489797\n",
      "machine_makespans = [4465.670591985191, 4489.5344827586205, 4528.294575725028, 4581.385542168674, 4623.088666227202, 4437.76, 4635.561224489797, 4595.147413177244]\n",
      "operation_list =\n",
      "[[   13     1     0     3 11007]\n",
      " [    5     0     0     2 19299]\n",
      " [   27     0     0     3 18694]\n",
      " ...\n",
      " [   14     6     5     7 19098]\n",
      " [   21     4     3     6 12909]\n",
      " [   35     4     3     2 12255]]\n"
     ]
    }
   ],
   "source": [
    "from JSSP.solver import Solver\n",
    "\n",
    "output_dir = './example_output'\n",
    "\n",
    "# optional\n",
    "output_results = False\n",
    "auto_open = False\n",
    "benchmark = False\n",
    "verbose = False\n",
    "progress_bar = False\n",
    "\n",
    "# ga parameters\n",
    "runtime = 10 # in seconds\n",
    "mutation_probability = 0.8\n",
    "population = None\n",
    "population_size = 200\n",
    "selection_size = 5\n",
    "\n",
    "# create solver\n",
    "solver = Solver()\n",
    "\n",
    "# run genetic algorithm\n",
    "solution = solver.genetic_algorithm_time(runtime, \n",
    "                                         population, \n",
    "                                         population_size, \n",
    "                                         mutation_probability, \n",
    "                                         selection_size, \n",
    "                                         benchmark=benchmark,\n",
    "                                         verbose=verbose,\n",
    "                                         progress_bar=progress_bar\n",
    "                                        )\n",
    "\n",
    "print('Parameters:')\n",
    "for param, val in solver.ga_parameters.items():\n",
    "    if param != 'population':\n",
    "        print(param, '=' ,val)\n",
    "    \n",
    "print('\\nSolution')\n",
    "solution.pprint()\n",
    "\n",
    "\n",
    "if output_results:\n",
    "    if benchmark:\n",
    "        solver.output_benchmark_results(output_dir, name='example_benchmark', auto_open=auto_open)\n",
    "    else:\n",
    "        solution.create_schedule(output_dir)"
   ]
  },
  {
   "cell_type": "markdown",
   "metadata": {},
   "source": [
    "You can also run the genetic algorithm for a certain number of iteratins instead of time"
   ]
  },
  {
   "cell_type": "code",
   "execution_count": 3,
   "metadata": {
    "pycharm": {}
   },
   "outputs": [
    {
     "name": "stdout",
     "output_type": "stream",
     "text": [
      "Parameters:\n",
      "stopping condition = 100\n",
      "time condition = False\n",
      "mutation probability = 0.8\n",
      "selection size = 5\n",
      "population size = 200\n",
      "\n",
      "Solution\n",
      "makespan = 6159.503837817539\n",
      "machine_makespans = [6159.503837817539, 6110.034115361695, 5630.770418904403, 5574.270053185716, 5301.597292812972, 6030.545789037052, 5574.696299983407, 4807.206006217057]\n",
      "operation_list =\n",
      "[[   42     0     0     3 18461]\n",
      " [   12     0     0     3  8191]\n",
      " [   26     0     0     4 14926]\n",
      " ...\n",
      " [   41     4     2     5 22134]\n",
      " [   24     6     4     5 14392]\n",
      " [   41     5     2     2  7556]]\n"
     ]
    }
   ],
   "source": [
    "from JSSP.solver import Solver\n",
    "\n",
    "output_dir = './example_output'\n",
    "\n",
    "# optional\n",
    "output_results = False\n",
    "auto_open = False\n",
    "benchmark = False\n",
    "verbose = False\n",
    "progress_bar = False\n",
    "\n",
    "# ga parameters\n",
    "iterations = 100\n",
    "mutation_probability = 0.8\n",
    "population = None\n",
    "population_size = 200\n",
    "selection_size = 5\n",
    "\n",
    "# create solver\n",
    "solver = Solver()\n",
    "\n",
    "# run genetic algorithm\n",
    "solution = solver.genetic_algorithm_iter(iterations, \n",
    "                                         population, \n",
    "                                         population_size, \n",
    "                                         mutation_probability, \n",
    "                                         selection_size, \n",
    "                                         benchmark=benchmark,\n",
    "                                         verbose=verbose,\n",
    "                                         progress_bar=progress_bar\n",
    "                                        )\n",
    "\n",
    "print('Parameters:')\n",
    "for param, val in solver.ga_parameters.items():\n",
    "    if param != 'population':\n",
    "        print(param, '=' ,val)\n",
    "    \n",
    "print('\\nSolution')\n",
    "solution.pprint()\n",
    "\n",
    "\n",
    "if output_results:\n",
    "    if benchmark:\n",
    "        solver.output_benchmark_results(output_dir, name='example_benchmark', auto_open=auto_open)\n",
    "    else:\n",
    "        solution.create_schedule(output_dir)"
   ]
  },
  {
   "cell_type": "code",
   "execution_count": null,
   "metadata": {},
   "outputs": [],
   "source": []
  }
 ],
 "metadata": {
  "kernelspec": {
   "display_name": "Python 3",
   "language": "python",
   "name": "python3"
  },
  "language_info": {
   "codemirror_mode": {
    "name": "ipython",
    "version": 3
   },
   "file_extension": ".py",
   "mimetype": "text/x-python",
   "name": "python",
   "nbconvert_exporter": "python",
   "pygments_lexer": "ipython3",
   "version": "3.6.7"
  },
  "pycharm": {
   "stem_cell": {
    "cell_type": "raw",
    "metadata": {
     "collapsed": false
    },
    "source": []
   }
  }
 },
 "nbformat": 4,
 "nbformat_minor": 2
}
