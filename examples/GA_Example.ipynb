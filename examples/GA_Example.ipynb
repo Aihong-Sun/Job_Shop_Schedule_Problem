{
 "cells": [
  {
   "cell_type": "markdown",
   "metadata": {},
   "source": [
    "## JSSP Genetic Algorithm Example\n",
    "\n",
    "This notebook demonstraits how to use the genertic algorithm from Job Shop Schedule Problem (JSSP).\n",
    "\n",
    "Before running this notebook make sure JSSP is installed.  \n",
    "See [README.md](https://github.com/mcfadd/Job_Shop_Schedule_Problem#how-to-install) for installation instructions."
   ]
  },
  {
   "cell_type": "code",
   "execution_count": 1,
   "metadata": {},
   "outputs": [],
   "source": [
    "from JSSP.data import Data\n",
    "import os\n",
    "\"\"\"\n",
    "initialize static data from csv files\n",
    "\"\"\"\n",
    "data_directory = '../data/data_set2'\n",
    "Data.initialize_data_from_csv(data_directory + '/sequenceDependencyMatrix.csv',\n",
    "                              data_directory + '/machineRunSpeed.csv',\n",
    "                              data_directory + '/jobTasks.csv')\n",
    "\n",
    "# uncomment this to print the data that was read in\n",
    "# Data.print_data()"
   ]
  },
  {
   "cell_type": "markdown",
   "metadata": {},
   "source": [
    "### Genetic Algorithm"
   ]
  },
  {
   "cell_type": "code",
   "execution_count": 2,
   "metadata": {},
   "outputs": [
    {
     "name": "stderr",
     "output_type": "stream",
     "text": [
      "|||||||||||||||||||||||||||||||||||||||||||||||||||||||||||     | ETA:  0:00:02\r"
     ]
    },
    {
     "name": "stdout",
     "output_type": "stream",
     "text": [
      "iterations = 134074\n",
      "makespan = 4803.702702702702\n",
      "machine_makespans = [4656.3170731707305, 4699.775862068966, 4563.0526315789475, 4649.518072289156, 4803.702702702702, 4405.185405405404, 4440.201266713581, 4120.266294876264]\n",
      "operation_list =\n",
      "[[   16     0     0     5  7276]\n",
      " [    9     2     0     2  5404]\n",
      " [    5     0     0     2 19299]\n",
      " ...\n",
      " [   40     3     3     3  9698]\n",
      " [   32     5     4     3 16111]\n",
      " [   34     4     2     4 18747]]\n"
     ]
    },
    {
     "name": "stderr",
     "output_type": "stream",
     "text": [
      "||||||||||||||||||||||||||||||||||||||||||||||||||||||||||||||||| Time: 0:00:29\n"
     ]
    }
   ],
   "source": [
    "from JSSP.solution import generate_feasible_solution\n",
    "from JSSP.genetic_algorithm import search\n",
    "\n",
    "# parameters\n",
    "runtime = 30\n",
    "output_dir = './jssp_output'\n",
    "probability_change_machine = 0.8\n",
    "population_size = 200\n",
    "\n",
    "# generate random initial population\n",
    "initial_population = [generate_feasible_solution() for _ in range(population_size)]\n",
    "\n",
    "# create output dir\n",
    "if not os.path.exists(output_dir):\n",
    "    os.mkdir(output_dir)\n",
    "\n",
    "# run the GA\n",
    "result = search(runtime, initial_population, probability_change_machine, \n",
    "                verbose=False, progress_bar=True)\n",
    "\n",
    "# output results\n",
    "result.pprint()\n",
    "\n",
    "#result.create_schedule(output_dir)"
   ]
  }
 ],
 "metadata": {
  "kernelspec": {
   "display_name": "Python 3",
   "language": "python",
   "name": "python3"
  },
  "language_info": {
   "codemirror_mode": {
    "name": "ipython",
    "version": 3
   },
   "file_extension": ".py",
   "mimetype": "text/x-python",
   "name": "python",
   "nbconvert_exporter": "python",
   "pygments_lexer": "ipython3",
   "version": "3.6.7"
  }
 },
 "nbformat": 4,
 "nbformat_minor": 2
}
