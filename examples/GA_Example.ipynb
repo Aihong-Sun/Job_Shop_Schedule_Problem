{
  "cells": [
    {
      "cell_type": "markdown",
      "metadata": {
        "pycharm": {}
      },
      "source": [
        "## JSSP Genetic Algorithm Example\n",
        "\n",
        "This notebook demonstraits how to use the genertic algorithm."
      ]
    },
    {
      "cell_type": "code",
      "execution_count": 1,
      "metadata": {
        "pycharm": {}
      },
      "outputs": [],
      "source": "from JSSP.data import Data\n\n# initialize data\ndata_directory \u003d \u0027../data/given_data\u0027\nData.initialize_data_from_csv(data_directory + \u0027/sequenceDependencyMatrix.csv\u0027,\n                              data_directory + \u0027/machineRunSpeed.csv\u0027,\n                              data_directory + \u0027/jobTasks.csv\u0027)\n\n# uncomment this to print the data that was read in\n# Data.print_data()"
    },
    {
      "cell_type": "code",
      "execution_count": 2,
      "metadata": {
        "pycharm": {}
      },
      "outputs": [
        {
          "name": "stdout",
          "output_type": "stream",
          "text": [
            "Parameters:\n",
            "runtime \u003d 30\n",
            "mutation probability \u003d 0.8\n",
            "selection size \u003d 5\n",
            "population size \u003d 200\n",
            "\n",
            "Solution\n",
            "makespan \u003d 4619.4655172413795\n",
            "machine_makespans \u003d [4395.4081775687555, 4619.4655172413795, 4431.0, 4389.602423351946, 4490.217844350374, 4357.474471544716, 4372.707248416607, 4505.683717743777]\n",
            "operation_list \u003d\n",
            "[[   33     0     0     5 11149]\n",
            " [   35     0     0     2  6339]\n",
            " [    0     0     0     4 19116]\n",
            " ...\n",
            " [    3     3     2     5 22582]\n",
            " [    3     5     3     3 10208]\n",
            " [    3     4     3     5  8886]]\n"
          ]
        }
      ],
      "source": [
        "from JSSP.solver import Solver\n",
        "\n",
        "output_dir \u003d \u0027./example_output\u0027\n",
        "\n",
        "# optional\n",
        "output_results \u003d False\n",
        "auto_open \u003d False\n",
        "benchmark \u003d False\n",
        "progress_bar \u003d False\n",
        "\n",
        "# ga parameters\n",
        "runtime \u003d 30 # in seconds\n",
        "mutation_probability \u003d 0.8\n",
        "population \u003d None\n",
        "population_size \u003d 200\n",
        "selection_size \u003d 5\n",
        "\n",
        "# create solver\n",
        "solver \u003d Solver()\n",
        "\n",
        "# run genetic algorithm\n",
        "solution \u003d solver.genetic_algorithm(runtime, \n",
        "                                    population, \n",
        "                                    population_size, \n",
        "                                    mutation_probability, \n",
        "                                    selection_size, \n",
        "                                    benchmark\u003dbenchmark, \n",
        "                                    progress_bar\u003dprogress_bar)\n",
        "\n",
        "print(\u0027Parameters:\u0027)\n",
        "for param, val in solver.ga_parameters.items():\n",
        "    if param !\u003d \u0027population\u0027:\n",
        "        print(param, \u0027\u003d\u0027 ,val)\n",
        "    \n",
        "print(\u0027\\nSolution\u0027)\n",
        "solution.pprint()\n",
        "\n",
        "\n",
        "if output_results:\n",
        "    if benchmark:\n",
        "        solver.output_benchmark_results(output_dir, name\u003d\u0027example_benchmark\u0027, auto_open\u003dauto_open)\n",
        "    else:\n",
        "        solution.create_schedule(output_dir)"
      ]
    },
    {
      "cell_type": "code",
      "execution_count": null,
      "metadata": {
        "pycharm": {}
      },
      "outputs": [],
      "source": []
    }
  ],
  "metadata": {
    "kernelspec": {
      "display_name": "Python 3",
      "language": "python",
      "name": "python3"
    },
    "language_info": {
      "codemirror_mode": {
        "name": "ipython",
        "version": 3
      },
      "file_extension": ".py",
      "mimetype": "text/x-python",
      "name": "python",
      "nbconvert_exporter": "python",
      "pygments_lexer": "ipython3",
      "version": "3.6.7"
    }
  },
  "nbformat": 4,
  "nbformat_minor": 2
}