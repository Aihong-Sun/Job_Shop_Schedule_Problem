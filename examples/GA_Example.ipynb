{
 "cells": [
  {
   "cell_type": "markdown",
   "metadata": {},
   "source": [
    "## JSSP Genetic Algorithm Example\n",
    "\n",
    "This notebook demonstraits how to use the genertic algorithm from Job Shop Schedule Problem (JSSP).\n",
    "\n",
    "Before running this notebook make sure JSSP is installed.  \n",
    "See [README.md](https://github.com/mcfadd/Job_Shop_Schedule_Problem#how-to-install) for installation instructions."
   ]
  },
  {
   "cell_type": "code",
   "execution_count": 1,
   "metadata": {},
   "outputs": [],
   "source": [
    "from JSSP.data import Data\n",
    "import os\n",
    "\"\"\"\n",
    "initialize static data from csv files\n",
    "\"\"\"\n",
    "data_directory = '../data/data_set2'\n",
    "Data.initialize_data(data_directory + '/sequenceDependencyMatrix.csv',\n",
    "                     data_directory + '/machineRunSpeed.csv',\n",
    "                     data_directory + '/jobTasks.csv')\n",
    "\n",
    "# uncomment this to print the data that was read in\n",
    "# Data.print_data()"
   ]
  },
  {
   "cell_type": "markdown",
   "metadata": {},
   "source": [
    "### Genetic Algorithm"
   ]
  },
  {
   "cell_type": "code",
   "execution_count": null,
   "metadata": {},
   "outputs": [],
   "source": [
    "from JSSP.solution import generate_feasible_solution\n",
    "from JSSP.genetic_algorithm import search\n",
    "\n",
    "# parameters\n",
    "runtime = 120\n",
    "output_dir = './jssp_output'\n",
    "probability_change_machine = 0.8\n",
    "population_size = 200\n",
    "\n",
    "# generate random initial population\n",
    "initial_population = [generate_feasible_solution() for _ in range(population_size)]\n",
    "\n",
    "# create output dir\n",
    "if not os.path.exists(output_dir):\n",
    "    os.mkdir(output_dir)\n",
    "\n",
    "# run the GA\n",
    "result = search(runtime, initial_population, mutation_probability=probability_change_machine, verbose=False)\n",
    "\n",
    "# output results\n",
    "result.pprint()\n",
    "\n",
    "#result.create_schedule(output_dir)"
   ]
  }
 ],
 "metadata": {
  "kernelspec": {
   "display_name": "Python 3",
   "language": "python",
   "name": "python3"
  },
  "language_info": {
   "codemirror_mode": {
    "name": "ipython",
    "version": 3
   },
   "file_extension": ".py",
   "mimetype": "text/x-python",
   "name": "python",
   "nbconvert_exporter": "python",
   "pygments_lexer": "ipython3",
   "version": "3.6.7"
  }
 },
 "nbformat": 4,
 "nbformat_minor": 2
}
