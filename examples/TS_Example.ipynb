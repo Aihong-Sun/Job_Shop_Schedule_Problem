{
  "cells": [
    {
      "cell_type": "markdown",
      "metadata": {
        "pycharm": {}
      },
      "source": [
        "## JSSP Tabu Search Example\n",
        "\n",
        "This notebook demonstraits how to use parallel tabu search."
      ]
    },
    {
      "cell_type": "code",
      "execution_count": 1,
      "metadata": {
        "pycharm": {}
      },
      "outputs": [],
      "source": "from JSSP.data import Data\nimport os\n\n# initialize data\ndata_directory \u003d \u0027../data/given_data\u0027\nData.initialize_data_from_csv(data_directory + \u0027/sequenceDependencyMatrix.csv\u0027,\n                              data_directory + \u0027/machineRunSpeed.csv\u0027,\n                              data_directory + \u0027/jobTasks.csv\u0027)\n\n# uncomment this to print the data that was read in\n# Data.print_data()"
    },
    {
      "cell_type": "code",
      "execution_count": 2,
      "metadata": {
        "pycharm": {}
      },
      "outputs": [
        {
          "name": "stdout",
          "output_type": "stream",
          "text": [
            "Parameters:\n",
            "runtime  \u003d  30\n",
            "processes  \u003d  2\n",
            "tabu list size  \u003d  50\n",
            "neighborhood size  \u003d  250\n",
            "neighborhood wait  \u003d  0.1\n",
            "probability change_machine  \u003d  0.8\n",
            "reset threshold  \u003d  100\n",
            "initial solutions  \u003d  [\u003cJSSP.solution.solution.Solution object at 0x7f7e80975dd8\u003e, \u003cJSSP.solution.solution.Solution object at 0x7f7e80975da0\u003e]\n",
            "\n",
            "Solution\n",
            "makespan \u003d 4058.6724137931033\n",
            "machine_makespans \u003d [4032.4065040650407, 4058.6724137931033, 4024.2763157894733, 4037.313253012048, 4057.8108108108104, 4045.21, 4025.2959183673465, 4028.5695364238422]\n",
            "operation_list \u003d\n",
            "[[   13     1     0     3 11007]\n",
            " [    5     0     0     2 19299]\n",
            " [   11     0     0     5  7757]\n",
            " ...\n",
            " [   39     2     1     7 18773]\n",
            " [    9     2     0     0  5404]\n",
            " [   29     4     2     0 19286]]\n"
          ]
        }
      ],
      "source": [
        "from JSSP.solver import Solver\n",
        "\n",
        "output_dir \u003d \u0027./example_output\u0027\n",
        "\n",
        "# optional\n",
        "output_results \u003d False\n",
        "auto_open \u003d False\n",
        "benchmark \u003d False\n",
        "verbose \u003d False\n",
        "progress_bar \u003d False\n",
        "\n",
        "# ts parameters\n",
        "runtime \u003d 30 # in seconds\n",
        "num_processes \u003d 2\n",
        "tabu_list_size \u003d 50\n",
        "neighborhood_size \u003d 250\n",
        "neighborhood_wait \u003d 0.1\n",
        "probability_change_machine \u003d 0.8\n",
        "reset_threshold \u003d 100\n",
        "\n",
        "# create solver\n",
        "solver \u003d Solver()\n",
        "\n",
        "# run tabu seach\n",
        "solution \u003d solver.tabu_search(runtime,\n",
        "                              num_processes,\n",
        "                              tabu_list_size,\n",
        "                              neighborhood_size,\n",
        "                              neighborhood_wait,\n",
        "                              probability_change_machine,\n",
        "                              reset_threshold,\n",
        "                              benchmark,\n",
        "                              verbose,\n",
        "                              progress_bar\n",
        "                             )\n",
        "\n",
        "print(\u0027Parameters:\u0027)\n",
        "for param, val in solver.ts_parameters.items():\n",
        "    print(param, \u0027\u003d\u0027 ,val)\n",
        "    \n",
        "print(\u0027\\nSolution\u0027)\n",
        "solution.pprint()\n",
        "\n",
        "if output_results:\n",
        "    if benchmark:\n",
        "        solver.output_benchmark_results(output_dir, name\u003d\u0027example_benchmark\u0027, auto_open\u003dauto_open)\n",
        "    else:\n",
        "        solution.create_schedule(output_dir)"
      ]
    },
    {
      "cell_type": "code",
      "execution_count": null,
      "metadata": {
        "pycharm": {}
      },
      "outputs": [],
      "source": []
    }
  ],
  "metadata": {
    "kernelspec": {
      "display_name": "Python 3",
      "language": "python",
      "name": "python3"
    },
    "language_info": {
      "codemirror_mode": {
        "name": "ipython",
        "version": 3
      },
      "file_extension": ".py",
      "mimetype": "text/x-python",
      "name": "python",
      "nbconvert_exporter": "python",
      "pygments_lexer": "ipython3",
      "version": "3.6.7"
    }
  },
  "nbformat": 4,
  "nbformat_minor": 2
}