{
 "cells": [
  {
   "cell_type": "markdown",
   "metadata": {
    "pycharm": {}
   },
   "source": [
    "## JSSP Tabu Search Example\n",
    "\n",
    "This notebook demonstraits how to use parallel tabu search."
   ]
  },
  {
   "cell_type": "code",
   "execution_count": 1,
   "metadata": {
    "pycharm": {}
   },
   "outputs": [],
   "source": [
    "from JSSP.data import Data\n",
    "import os\n",
    "\n",
    "# initialize data\n",
    "data_directory = '../data/given_data'\n",
    "Data.initialize_data_from_csv(data_directory + '/sequenceDependencyMatrix.csv',\n",
    "                              data_directory + '/machineRunSpeed.csv',\n",
    "                              data_directory + '/jobTasks.csv')\n",
    "\n",
    "# uncomment this to print the data that was read in\n",
    "# Data.print_data()"
   ]
  },
  {
   "cell_type": "code",
   "execution_count": 2,
   "metadata": {
    "pycharm": {}
   },
   "outputs": [
    {
     "name": "stderr",
     "output_type": "stream",
     "text": [
      "||||||||||||||||||||||||||||||||||||||||||||||||||||||||||||||||| Time: 0:09:55\n"
     ]
    },
    {
     "name": "stdout",
     "output_type": "stream",
     "text": [
      "Parameters:\n",
      "runtime = 600\n",
      "processes = 10\n",
      "tabu list size = 50\n",
      "neighborhood size = 350\n",
      "neighborhood wait = 0.15\n",
      "probability change_machine = 0.8\n",
      "reset threshold = 100\n",
      "initial solutions = [<JSSP.solution.solution.Solution object at 0x7f551404dd30>, <JSSP.solution.solution.Solution object at 0x7f551404dcf8>, <JSSP.solution.solution.Solution object at 0x7f551404ddd8>, <JSSP.solution.solution.Solution object at 0x7f5514048320>, <JSSP.solution.solution.Solution object at 0x7f55140482e8>, <JSSP.solution.solution.Solution object at 0x7f5514048358>, <JSSP.solution.solution.Solution object at 0x7f5514048390>, <JSSP.solution.solution.Solution object at 0x7f5514056b00>, <JSSP.solution.solution.Solution object at 0x7f54f5d1c550>, <JSSP.solution.solution.Solution object at 0x7f551405e3c8>]\n",
      "\n",
      "Solution\n",
      "makespan = 4050.3199999999993\n",
      "machine_makespans = [4030.1300813008133, 4021.4655172413795, 4033.881578947369, 4042.4216867469877, 4042.5225225225217, 4050.3199999999993, 4027.816326530612, 4036.0927152317904]\n",
      "operation_list =\n",
      "[[   14     0     0     6 14120]\n",
      " [   37     0     0     2 17820]\n",
      " [   25     0     0     0 21419]\n",
      " ...\n",
      " [   14     6     5     7 19098]\n",
      " [   45     0     0     5 21425]\n",
      " [   41     5     2     4  7556]]\n",
      "opening file:///home/mcfadd/Job_Shop_Schedule_Problem/examples/jssp_output/example_benchmark in browser\n"
     ]
    }
   ],
   "source": [
    "from JSSP.solver import Solver\n",
    "\n",
    "output_dir = './jssp_output'\n",
    "\n",
    "# optional\n",
    "output_results = True\n",
    "auto_open = True\n",
    "benchmark = True\n",
    "verbose = False\n",
    "progress_bar = True\n",
    "\n",
    "# ts parameters\n",
    "runtime = 600 # in seconds\n",
    "num_processes = 10\n",
    "tabu_list_size = 50\n",
    "neighborhood_size = 350\n",
    "neighborhood_wait = 0.15\n",
    "probability_change_machine = 0.8\n",
    "reset_threshold = 100\n",
    "\n",
    "# create solver\n",
    "solver = Solver()\n",
    "\n",
    "# run tabu seach\n",
    "solution = solver.tabu_search(runtime,\n",
    "                              num_processes,\n",
    "                              tabu_list_size,\n",
    "                              neighborhood_size,\n",
    "                              neighborhood_wait,\n",
    "                              probability_change_machine,\n",
    "                              reset_threshold,\n",
    "                              benchmark=benchmark,\n",
    "                              verbose=verbose,\n",
    "                              progress_bar=progress_bar\n",
    "                              )\n",
    "\n",
    "print('Parameters:')\n",
    "for param, val in solver.ts_parameters.items():\n",
    "    print(param, '=' ,val)\n",
    "    \n",
    "print('\\nSolution')\n",
    "solution.pprint()\n",
    "\n",
    "if output_results:\n",
    "    if benchmark:\n",
    "        solver.output_benchmark_results(output_dir, name='example_benchmark', auto_open=auto_open)\n",
    "    else:\n",
    "        solution.create_schedule(output_dir)"
   ]
  },
  {
   "cell_type": "code",
   "execution_count": 6,
   "metadata": {},
   "outputs": [
    {
     "name": "stdout",
     "output_type": "stream",
     "text": [
      "8335.990883592769\n"
     ]
    }
   ],
   "source": [
    "import statistics\n",
    "init_solutions = solver.ts_parameters['initial solutions']\n",
    "print(statistics.mean([sol.makespan for sol in init_solutions]))"
   ]
  },
  {
   "cell_type": "code",
   "execution_count": null,
   "metadata": {
    "pycharm": {}
   },
   "outputs": [],
   "source": []
  }
 ],
 "metadata": {
  "kernelspec": {
   "display_name": "Python 3",
   "language": "python",
   "name": "python3"
  },
  "language_info": {
   "codemirror_mode": {
    "name": "ipython",
    "version": 3
   },
   "file_extension": ".py",
   "mimetype": "text/x-python",
   "name": "python",
   "nbconvert_exporter": "python",
   "pygments_lexer": "ipython3",
   "version": "3.6.7"
  },
  "pycharm": {
   "stem_cell": {
    "cell_type": "raw",
    "metadata": {
     "collapsed": false
    },
    "source": []
   }
  }
 },
 "nbformat": 4,
 "nbformat_minor": 2
}
