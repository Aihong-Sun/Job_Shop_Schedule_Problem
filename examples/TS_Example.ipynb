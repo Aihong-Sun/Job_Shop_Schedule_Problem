{
 "cells": [
  {
   "cell_type": "markdown",
   "metadata": {
    "pycharm": {}
   },
   "source": [
    "## JSSP Tabu Search Example\n",
    "\n",
    "This notebook demonstraits how to use parallel tabu search."
   ]
  },
  {
   "cell_type": "code",
   "execution_count": 1,
   "metadata": {
    "pycharm": {}
   },
   "outputs": [],
   "source": [
    "from JSSP.data import Data\n",
    "import os\n",
    "\n",
    "# initialize data\n",
    "data_directory = '../data/given_data'\n",
    "Data.initialize_data_from_csv(data_directory + '/sequenceDependencyMatrix.csv',\n",
    "                              data_directory + '/machineRunSpeed.csv',\n",
    "                              data_directory + '/jobTasks.csv')\n",
    "\n",
    "# uncomment this to print the data that was read in\n",
    "# Data.print_data()"
   ]
  },
  {
   "cell_type": "code",
   "execution_count": 2,
   "metadata": {
    "pycharm": {}
   },
   "outputs": [
    {
     "name": "stdout",
     "output_type": "stream",
     "text": [
      "Parameters:\n",
      "stopping condition = 30\n",
      "time condition = True\n",
      "processes = 4\n",
      "tabu list size = 50\n",
      "neighborhood size = 250\n",
      "neighborhood wait = 0.15\n",
      "probability change_machine = 0.8\n",
      "reset threshold = 100\n",
      "initial solutions = [<JSSP.solution.solution.Solution object at 0x7f42a3965e80>, <JSSP.solution.solution.Solution object at 0x7f42a3965eb8>, <JSSP.solution.solution.Solution object at 0x7f42a3965f60>, <JSSP.solution.solution.Solution object at 0x7f42a39514a8>]\n",
      "\n",
      "Solution\n",
      "makespan = 4067.7297297297296\n",
      "machine_makespans = [4040.1056910569105, 4054.965517241379, 3999.736842105263, 4061.5060240963853, 4067.7297297297296, 4034.3099999999995, 4026.244897959184, 4065.8504747466686]\n",
      "operation_list =\n",
      "[[   24     0     0     1 19234]\n",
      " [   43     0     0     5  7688]\n",
      " [   36     1     0     0  8454]\n",
      " ...\n",
      " [    1     4     2     0  9305]\n",
      " [   30     2     1     1 15242]\n",
      " [   26     3     2     5  7893]]\n"
     ]
    }
   ],
   "source": [
    "from JSSP.solver import Solver\n",
    "\n",
    "output_dir = './jssp_output'\n",
    "\n",
    "# optional\n",
    "output_results = False\n",
    "auto_open = False\n",
    "benchmark = False\n",
    "verbose = False\n",
    "progress_bar = False\n",
    "\n",
    "# ts parameters\n",
    "runtime = 30 # in seconds\n",
    "num_processes = 4\n",
    "tabu_list_size = 50\n",
    "neighborhood_size = 250\n",
    "neighborhood_wait = 0.15\n",
    "probability_change_machine = 0.8\n",
    "reset_threshold = 100\n",
    "\n",
    "# create solver\n",
    "solver = Solver()\n",
    "\n",
    "# run tabu seach\n",
    "solution = solver.tabu_search_time(runtime,\n",
    "                                   num_processes,\n",
    "                                   tabu_list_size,\n",
    "                                   neighborhood_size,\n",
    "                                   neighborhood_wait,\n",
    "                                   probability_change_machine,\n",
    "                                   reset_threshold,\n",
    "                                   benchmark=benchmark,\n",
    "                                   verbose=verbose,\n",
    "                                   progress_bar=progress_bar\n",
    "                                  )\n",
    "\n",
    "print('Parameters:')\n",
    "for param, val in solver.ts_parameters.items():\n",
    "    print(param, '=' ,val)\n",
    "    \n",
    "print('\\nSolution')\n",
    "solution.pprint()\n",
    "\n",
    "if output_results:\n",
    "    if benchmark:\n",
    "        solver.output_benchmark_results(output_dir, name='example_benchmark', auto_open=auto_open)\n",
    "    else:\n",
    "        solution.create_schedule(output_dir)"
   ]
  },
  {
   "cell_type": "markdown",
   "metadata": {},
   "source": [
    "You can also run tabu search for a certain number of iteratins instead of time"
   ]
  },
  {
   "cell_type": "code",
   "execution_count": 3,
   "metadata": {
    "pycharm": {}
   },
   "outputs": [
    {
     "name": "stdout",
     "output_type": "stream",
     "text": [
      "Parameters:\n",
      "stopping condition = 100\n",
      "time condition = False\n",
      "processes = 4\n",
      "tabu list size = 50\n",
      "neighborhood size = 250\n",
      "neighborhood wait = 0.15\n",
      "probability change_machine = 0.8\n",
      "reset threshold = 100\n",
      "initial solutions = [<JSSP.solution.solution.Solution object at 0x7f42c8142710>, <JSSP.solution.solution.Solution object at 0x7f42a3965b38>, <JSSP.solution.solution.Solution object at 0x7f42a3965da0>, <JSSP.solution.solution.Solution object at 0x7f42a271ea58>]\n",
      "\n",
      "Solution\n",
      "makespan = 4125.301204819278\n",
      "machine_makespans = [4102.536585365853, 4057.5172413793102, 4124.73052631579, 4125.301204819278, 4121.441441441441, 4108.618915662651, 4119.6725501011215, 4110.7528670650945]\n",
      "operation_list =\n",
      "[[   46     1     0     5  5080]\n",
      " [   19     0     0     2 23693]\n",
      " [   48     0     0     2 17294]\n",
      " ...\n",
      " [   24     5     3     4 21549]\n",
      " [   24     6     4     4 14392]\n",
      " [   31     6     5     2 23583]]\n"
     ]
    }
   ],
   "source": [
    "from JSSP.solver import Solver\n",
    "\n",
    "output_dir = './jssp_output'\n",
    "\n",
    "# optional\n",
    "output_results = False\n",
    "auto_open = False\n",
    "benchmark = False\n",
    "verbose = False\n",
    "progress_bar = False\n",
    "\n",
    "# ts parameters\n",
    "iterations = 100\n",
    "num_processes = 4\n",
    "tabu_list_size = 50\n",
    "neighborhood_size = 250\n",
    "neighborhood_wait = 0.15\n",
    "probability_change_machine = 0.8\n",
    "reset_threshold = 100\n",
    "\n",
    "# create solver\n",
    "solver = Solver()\n",
    "\n",
    "# run tabu seach\n",
    "solution = solver.tabu_search_iter(iterations,\n",
    "                                   num_processes,\n",
    "                                   tabu_list_size,\n",
    "                                   neighborhood_size,\n",
    "                                   neighborhood_wait,\n",
    "                                   probability_change_machine,\n",
    "                                   reset_threshold,\n",
    "                                   benchmark=benchmark,\n",
    "                                   verbose=verbose,\n",
    "                                   progress_bar=progress_bar\n",
    "                                  )\n",
    "\n",
    "print('Parameters:')\n",
    "for param, val in solver.ts_parameters.items():\n",
    "    print(param, '=' ,val)\n",
    "    \n",
    "print('\\nSolution')\n",
    "solution.pprint()\n",
    "\n",
    "if output_results:\n",
    "    if benchmark:\n",
    "        solver.output_benchmark_results(output_dir, name='example_benchmark', auto_open=auto_open)\n",
    "    else:\n",
    "        solution.create_schedule(output_dir)"
   ]
  },
  {
   "cell_type": "code",
   "execution_count": null,
   "metadata": {},
   "outputs": [],
   "source": []
  }
 ],
 "metadata": {
  "kernelspec": {
   "display_name": "Python 3",
   "language": "python",
   "name": "python3"
  },
  "language_info": {
   "codemirror_mode": {
    "name": "ipython",
    "version": 3
   },
   "file_extension": ".py",
   "mimetype": "text/x-python",
   "name": "python",
   "nbconvert_exporter": "python",
   "pygments_lexer": "ipython3",
   "version": "3.6.7"
  },
  "pycharm": {
   "stem_cell": {
    "cell_type": "raw",
    "metadata": {
     "collapsed": false
    },
    "source": []
   }
  }
 },
 "nbformat": 4,
 "nbformat_minor": 2
}
