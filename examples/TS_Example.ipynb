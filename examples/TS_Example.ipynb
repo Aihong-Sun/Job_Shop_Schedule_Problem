{
 "cells": [
  {
   "cell_type": "markdown",
   "metadata": {
    "pycharm": {}
   },
   "source": [
    "## JSSP Tabu Search Example\n",
    "\n",
    "This notebook demonstraits how to use parallel tabu search."
   ]
  },
  {
   "cell_type": "code",
   "execution_count": 1,
   "metadata": {
    "pycharm": {}
   },
   "outputs": [],
   "source": [
    "from JSSP.data import Data\n",
    "import os\n",
    "\n",
    "# initialize data\n",
    "data_directory = '../data/given_data'\n",
    "Data.initialize_data_from_csv(data_directory + '/sequenceDependencyMatrix.csv',\n",
    "                              data_directory + '/machineRunSpeed.csv',\n",
    "                              data_directory + '/jobTasks.csv')\n",
    "\n",
    "# uncomment this to print the data that was read in\n",
    "# Data.print_data()"
   ]
  },
  {
   "cell_type": "code",
   "execution_count": 2,
   "metadata": {
    "pycharm": {}
   },
   "outputs": [
    {
     "name": "stdout",
     "output_type": "stream",
     "text": [
      "Parameters:\n",
      "runtime = 30\n",
      "processes = 2\n",
      "tabu list size = 50\n",
      "neighborhood size = 250\n",
      "neighborhood wait = 0.1\n",
      "probability change_machine = 0.8\n",
      "reset threshold = 100\n",
      "initial solutions = [<JSSP.solution.solution.Solution object at 0x7f6eda7a0b00>, <JSSP.solution.solution.Solution object at 0x7f6efa1b3e80>]\n",
      "\n",
      "Solution\n",
      "makespan = 4053.4081632653056\n",
      "machine_makespans = [4051.6666666666674, 4042.8448275862065, 4046.4078947368425, 4013.530120481927, 4033.8558558558557, 4035.32, 4053.4081632653056, 4033.4701986754976]\n",
      "operation_list =\n",
      "[[    0     0     0     5 19116]\n",
      " [    9     0     0     6 12528]\n",
      " [   48     0     0     0 17294]\n",
      " ...\n",
      " [    3     4     3     7  8886]\n",
      " [   40     3     3     3  9698]\n",
      " [    6     4     2     6  7660]]\n"
     ]
    }
   ],
   "source": [
    "from JSSP.solver import Solver\n",
    "\n",
    "output_dir = './example_output'\n",
    "\n",
    "# optional\n",
    "output_results = False\n",
    "auto_open = False\n",
    "benchmark = False\n",
    "verbose = False\n",
    "progress_bar = False\n",
    "\n",
    "# ts parameters\n",
    "runtime = 30 # in seconds\n",
    "num_processes = 2\n",
    "tabu_list_size = 50\n",
    "neighborhood_size = 250\n",
    "neighborhood_wait = 0.1\n",
    "probability_change_machine = 0.8\n",
    "reset_threshold = 100\n",
    "\n",
    "# create solver\n",
    "solver = Solver()\n",
    "\n",
    "# run tabu seach\n",
    "solution = solver.tabu_search(runtime,\n",
    "                              num_processes,\n",
    "                              tabu_list_size,\n",
    "                              neighborhood_size,\n",
    "                              neighborhood_wait,\n",
    "                              probability_change_machine,\n",
    "                              reset_threshold,\n",
    "                              benchmark=benchmark,\n",
    "                              verbose=verbose,\n",
    "                              progress_bar=progress_bar\n",
    "                             )\n",
    "\n",
    "print('Parameters:')\n",
    "for param, val in solver.ts_parameters.items():\n",
    "    print(param, '=' ,val)\n",
    "    \n",
    "print('\\nSolution')\n",
    "solution.pprint()\n",
    "\n",
    "if output_results:\n",
    "    if benchmark:\n",
    "        solver.output_benchmark_results(output_dir, name='example_benchmark', auto_open=auto_open)\n",
    "    else:\n",
    "        solution.create_schedule(output_dir)"
   ]
  },
  {
   "cell_type": "code",
   "execution_count": null,
   "metadata": {
    "pycharm": {}
   },
   "outputs": [],
   "source": []
  }
 ],
 "metadata": {
  "kernelspec": {
   "display_name": "Python 3",
   "language": "python",
   "name": "python3"
  },
  "language_info": {
   "codemirror_mode": {
    "name": "ipython",
    "version": 3
   },
   "file_extension": ".py",
   "mimetype": "text/x-python",
   "name": "python",
   "nbconvert_exporter": "python",
   "pygments_lexer": "ipython3",
   "version": "3.7.2"
  }
 },
 "nbformat": 4,
 "nbformat_minor": 2
}
