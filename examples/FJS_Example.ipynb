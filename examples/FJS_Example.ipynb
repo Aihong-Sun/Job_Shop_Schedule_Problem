{
 "cells": [
  {
   "cell_type": "markdown",
   "metadata": {},
   "source": [
    "## JSSP FJS Example\n",
    "\n",
    "This notebook demonstraits how to use parallel tabu search to solve a flexible job shop problem (fjs).\n",
    "\n",
    "Example fjs problem instances can be found [here](https://github.com/mcfadd/Job_Shop_Schedule_Problem/tree/master/data/fjs_data)."
   ]
  },
  {
   "cell_type": "code",
   "execution_count": 1,
   "metadata": {},
   "outputs": [],
   "source": [
    "from JSSP.data import Data\n",
    "import os\n",
    "\n",
    "# initialize data\n",
    "fjs_instance='Barnes_seti5x'\n",
    "Data.initialize_data_from_fjs(f'../data/fjs_data/Barnes/{fjs_instance}.fjs')\n",
    "\n",
    "# uncomment this to print the data that was read in\n",
    "# Data.print_data()"
   ]
  },
  {
   "cell_type": "code",
   "execution_count": 3,
   "metadata": {},
   "outputs": [
    {
     "name": "stdout",
     "output_type": "stream",
     "text": [
      "Parameters:\n",
      "runtime = 30\n",
      "processes = 2\n",
      "tabu list size = 50\n",
      "neighborhood size = 250\n",
      "neighborhood wait = 0.1\n",
      "probability change_machine = 0.8\n",
      "reset threshold = 100\n",
      "initial solutions = [<JSSP.solution.solution.Solution object at 0x7f21fab8df60>, <JSSP.solution.solution.Solution object at 0x7f22203ba2b0>]\n",
      "\n",
      "Solution\n",
      "makespan = 1485.0\n",
      "machine_makespans = [1474.0, 1275.0, 1412.0, 1431.0, 1238.0, 1168.0, 1277.0, 1345.0, 1485.0, 1243.0, 1375.0, 1479.0, 1436.0, 1311.0, 1115.0, 1133.0]\n",
      "operation_list =\n",
      "[[ 6  0  0  9 15]\n",
      " [10  0  0  2 54]\n",
      " [ 8  0  0  3 12]\n",
      " ...\n",
      " [ 5 12 12  3 68]\n",
      " [ 5 13 13 12  5]\n",
      " [ 5 14 14  8 49]]\n"
     ]
    }
   ],
   "source": [
    "from JSSP.solver import Solver\n",
    "\n",
    "output_dir = './example_output'\n",
    "\n",
    "# optional\n",
    "output_results = False\n",
    "auto_open = False\n",
    "benchmark = False\n",
    "verbose = False\n",
    "progress_bar = False\n",
    "\n",
    "# ts parameters\n",
    "runtime = 30 # in seconds\n",
    "num_processes = 2\n",
    "tabu_list_size = 50\n",
    "neighborhood_size = 250\n",
    "neighborhood_wait = 0.1\n",
    "probability_change_machine = 0.8\n",
    "reset_threshold = 100\n",
    "\n",
    "# create solver\n",
    "solver = Solver()\n",
    "\n",
    "# run tabu seach\n",
    "solution = solver.tabu_search(runtime,\n",
    "                              num_processes,\n",
    "                              tabu_list_size,\n",
    "                              neighborhood_size,\n",
    "                              neighborhood_wait,\n",
    "                              probability_change_machine,\n",
    "                              reset_threshold,\n",
    "                              benchmark=benchmark,\n",
    "                              verbose=verbose,\n",
    "                              progress_bar=progress_bar\n",
    "                              )\n",
    "\n",
    "print('Parameters:')\n",
    "for param, val in solver.ts_parameters.items():\n",
    "    print(param, '=' ,val)\n",
    "    \n",
    "print('\\nSolution')\n",
    "solution.pprint()\n",
    "\n",
    "if output_results:\n",
    "    if benchmark:\n",
    "        solver.output_benchmark_results(output_dir, name='example_benchmark', auto_open=auto_open)\n",
    "    else:\n",
    "        solution.create_schedule(output_dir)"
   ]
  },
  {
   "cell_type": "code",
   "execution_count": null,
   "metadata": {},
   "outputs": [],
   "source": []
  }
 ],
 "metadata": {
  "kernelspec": {
   "display_name": "Python 3",
   "language": "python",
   "name": "python3"
  },
  "language_info": {
   "codemirror_mode": {
    "name": "ipython",
    "version": 3
   },
   "file_extension": ".py",
   "mimetype": "text/x-python",
   "name": "python",
   "nbconvert_exporter": "python",
   "pygments_lexer": "ipython3",
   "version": "3.6.7"
  },
  "pycharm": {
   "stem_cell": {
    "cell_type": "raw",
    "source": [],
    "metadata": {
     "collapsed": false
    }
   }
  }
 },
 "nbformat": 4,
 "nbformat_minor": 2
}