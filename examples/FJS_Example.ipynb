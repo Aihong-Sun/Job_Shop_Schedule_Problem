{
 "cells": [
  {
   "cell_type": "markdown",
   "metadata": {},
   "source": [
    "## JSSP FJS Example\n",
    "\n",
    "This notebook minimally demonstraits how to use parallel tabu search to solve a flexible job shop problem (fjs).\n",
    "\n",
    "Example fjs problem instances can be found [here](https://github.com/mcfadd/Job_Shop_Schedule_Problem/tree/master/data/fjs_data)."
   ]
  },
  {
   "cell_type": "code",
   "execution_count": 1,
   "metadata": {},
   "outputs": [],
   "source": [
    "from JSSP.data import Data\n",
    "import os\n",
    "\"\"\"\n",
    "initialize static data from .fjs file\n",
    "\"\"\"\n",
    "fjs_instance='Barnes_seti5x'\n",
    "Data.initialize_data_from_fjs(f'../data/fjs_data/Barnes/{fjs_instance}.fjs')\n",
    "\n",
    "# uncomment this to print the data that was read in\n",
    "# Data.print_data()"
   ]
  },
  {
   "cell_type": "code",
   "execution_count": 3,
   "metadata": {},
   "outputs": [
    {
     "name": "stderr",
     "output_type": "stream",
     "text": [
      "||||||||||||||||||||||||||||||||||||||||||||||||||||||||||||||||| Time: 0:01:59\n"
     ]
    },
    {
     "name": "stdout",
     "output_type": "stream",
     "text": [
      "opening file:///home/mcfadd/Job_Shop_Schedule_Problem/examples/jssp_output/Barnes_seti5x in browser\n"
     ]
    }
   ],
   "source": [
    "from JSSP.tabu_search import TabuSearchManager\n",
    "\n",
    "# parameters\n",
    "runtime = 120 # in seconds \n",
    "output_dir = './jssp_output'\n",
    "num_processes = 10\n",
    "tabu_list_size = 50\n",
    "neighborhood_size = 400\n",
    "neighborhood_wait = 0.15\n",
    "probability_change_machine = 0.8\n",
    "\n",
    "ts_manager = TabuSearchManager(runtime, \n",
    "                               num_processes, \n",
    "                               tabu_list_size, \n",
    "                               neighborhood_size, \n",
    "                               neighborhood_wait, \n",
    "                               probability_change_machine)\n",
    "\n",
    "ts_manager.start(benchmark=True, progress_bar=True)\n",
    "\n",
    "ts_manager.output_benchmark_results(output_dir=output_dir, name=fjs_instance)"
   ]
  },
  {
   "cell_type": "code",
   "execution_count": null,
   "metadata": {},
   "outputs": [],
   "source": []
  }
 ],
 "metadata": {
  "kernelspec": {
   "display_name": "Python 3",
   "language": "python",
   "name": "python3"
  },
  "language_info": {
   "codemirror_mode": {
    "name": "ipython",
    "version": 3
   },
   "file_extension": ".py",
   "mimetype": "text/x-python",
   "name": "python",
   "nbconvert_exporter": "python",
   "pygments_lexer": "ipython3",
   "version": "3.6.7"
  }
 },
 "nbformat": 4,
 "nbformat_minor": 2
}
