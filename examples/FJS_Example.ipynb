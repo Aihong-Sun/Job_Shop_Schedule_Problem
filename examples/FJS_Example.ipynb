{
 "cells": [
  {
   "cell_type": "markdown",
   "metadata": {},
   "source": [
    "## JSSP Example\n",
    "\n",
    "This notebook minimally demonstraits how to use the main function from Job Shop Schedule Problem (JSSP) to solve a flexible job shop problem (jsp).\n",
    "\n",
    "Example jsp problem instances can be found [here](https://github.com/mcfadd/Job_Shop_Schedule_Problem/tree/master/data/fjs_data).\n",
    "\n",
    "Before running this notebook make sure JSSP is installed.  \n",
    "See [README.md](https://github.com/mcfadd/Job_Shop_Schedule_Problem#how-to-install) for installation instructions."
   ]
  },
  {
   "cell_type": "code",
   "execution_count": 1,
   "metadata": {},
   "outputs": [],
   "source": [
    "from JSSP.data import Data\n",
    "import os\n",
    "\"\"\"\n",
    "initialize static data from csv files\n",
    "\"\"\"\n",
    "fjs_instance='Barnes_seti5x'\n",
    "Data.initialize_data_from_fjs(f'../data/fjs_data/Barnes/{fjs_instance}.fjs')\n",
    "\n",
    "# uncomment this to print the data that was read in\n",
    "# Data.print_data()"
   ]
  },
  {
   "cell_type": "markdown",
   "metadata": {},
   "source": [
    "### Parameters for Tabu Search\n",
    "\n",
    "See [README.md](https://github.com/mcfadd/Job_Shop_Schedule_Problem/blob/master/README.md) for information on these parameters."
   ]
  },
  {
   "cell_type": "code",
   "execution_count": 2,
   "metadata": {},
   "outputs": [],
   "source": [
    "runtime = 120 # set runtime to 60 seconds \n",
    "output_dir = './jssp_output'\n",
    "num_processes = 10\n",
    "tabu_list_size = 50\n",
    "neighborhood_size = 400\n",
    "neighborhood_wait = 0.15\n",
    "probability_change_machine = 0.8"
   ]
  },
  {
   "cell_type": "markdown",
   "metadata": {},
   "source": [
    "As of right now the main program only runs parallel Tabu Search.  "
   ]
  },
  {
   "cell_type": "code",
   "execution_count": 3,
   "metadata": {},
   "outputs": [
    {
     "name": "stderr",
     "output_type": "stream",
     "text": [
      "||||||||||||||||||||||||||||||||||||||||||||||||||||||||||||||||| Time: 0:01:59\n"
     ]
    },
    {
     "name": "stdout",
     "output_type": "stream",
     "text": [
      "opening file:///home/mcfadd/Job_Shop_Schedule_Problem/examples/jssp_output/Barnes_seti5x in browser\n"
     ]
    }
   ],
   "source": [
    "from JSSP.tabu_search import TabuSearchManager\n",
    "\"\"\"\n",
    "Run the main program\n",
    "\n",
    "If you would like to run a benchmark \n",
    "set is_benchmark=True.\n",
    "\"\"\"\n",
    "\n",
    "ts_manager = TabuSearchManager(runtime, \n",
    "                               num_processes, \n",
    "                               tabu_list_size, \n",
    "                               neighborhood_size, \n",
    "                               neighborhood_wait, \n",
    "                               probability_change_machine)\n",
    "\n",
    "ts_manager.start(benchmark=True, progress_bar=True)\n",
    "\n",
    "ts_manager.output_benchmark_results(output_dir=output_dir, name=fjs_instance)"
   ]
  },
  {
   "cell_type": "code",
   "execution_count": null,
   "metadata": {},
   "outputs": [],
   "source": []
  }
 ],
 "metadata": {
  "kernelspec": {
   "display_name": "Python 3",
   "language": "python",
   "name": "python3"
  },
  "language_info": {
   "codemirror_mode": {
    "name": "ipython",
    "version": 3
   },
   "file_extension": ".py",
   "mimetype": "text/x-python",
   "name": "python",
   "nbconvert_exporter": "python",
   "pygments_lexer": "ipython3",
   "version": "3.6.7"
  }
 },
 "nbformat": 4,
 "nbformat_minor": 2
}
