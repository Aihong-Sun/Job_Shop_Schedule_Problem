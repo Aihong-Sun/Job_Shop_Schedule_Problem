{
 "cells": [
  {
   "cell_type": "markdown",
   "metadata": {},
   "source": [
    "## JSSP Example\n",
    "\n",
    "This notebook minimally demonstraits how to use the main function from Job Shop Schedule Problem (JSSP) to solve a flexible job shop problem (jsp).\n",
    "\n",
    "Example jsp problem instances can be found [here](https://github.com/mcfadd/Job_Shop_Schedule_Problem/tree/master/data/fjs_data).\n",
    "\n",
    "Before running this notebook make sure JSSP is installed.  \n",
    "See [README.md](https://github.com/mcfadd/Job_Shop_Schedule_Problem#how-to-install) for installation instructions."
   ]
  },
  {
   "cell_type": "code",
   "execution_count": 2,
   "metadata": {},
   "outputs": [
    {
     "ename": "IndexError",
     "evalue": "index 100 is out of bounds for axis 0 with size 100",
     "output_type": "error",
     "traceback": [
      "\u001b[0;31m---------------------------------------------------------------------------\u001b[0m",
      "\u001b[0;31mIndexError\u001b[0m                                Traceback (most recent call last)",
      "\u001b[0;32m<ipython-input-2-52f6e45e6b7a>\u001b[0m in \u001b[0;36m<module>\u001b[0;34m\u001b[0m\n\u001b[1;32m      4\u001b[0m \u001b[0minitialize\u001b[0m \u001b[0mstatic\u001b[0m \u001b[0mdata\u001b[0m \u001b[0;32mfrom\u001b[0m \u001b[0mcsv\u001b[0m \u001b[0mfiles\u001b[0m\u001b[0;34m\u001b[0m\u001b[0;34m\u001b[0m\u001b[0m\n\u001b[1;32m      5\u001b[0m \"\"\"\n\u001b[0;32m----> 6\u001b[0;31m \u001b[0mData\u001b[0m\u001b[0;34m.\u001b[0m\u001b[0minitialize_data_from_fjs\u001b[0m\u001b[0;34m(\u001b[0m\u001b[0;34m'../data/fjs_data/Barnes/Barnes_mt10c1.fjs'\u001b[0m\u001b[0;34m)\u001b[0m\u001b[0;34m\u001b[0m\u001b[0;34m\u001b[0m\u001b[0m\n\u001b[0m\u001b[1;32m      7\u001b[0m \u001b[0;34m\u001b[0m\u001b[0m\n\u001b[1;32m      8\u001b[0m \u001b[0;31m# uncomment this to print the data that was read in\u001b[0m\u001b[0;34m\u001b[0m\u001b[0;34m\u001b[0m\u001b[0;34m\u001b[0m\u001b[0m\n",
      "\u001b[0;32m~/Job_Shop_Schedule_Problem/venv/lib/python3.6/site-packages/JSSP/data.py\u001b[0m in \u001b[0;36minitialize_data_from_fjs\u001b[0;34m(input_file)\u001b[0m\n\u001b[1;32m    109\u001b[0m         Data.initialize_data_from_csv(tmp_dir + '/sequenceDependencyMatrix.csv',\n\u001b[1;32m    110\u001b[0m                                       \u001b[0mtmp_dir\u001b[0m \u001b[0;34m+\u001b[0m \u001b[0;34m'/machineRunSpeed.csv'\u001b[0m\u001b[0;34m,\u001b[0m\u001b[0;34m\u001b[0m\u001b[0;34m\u001b[0m\u001b[0m\n\u001b[0;32m--> 111\u001b[0;31m                                       tmp_dir + '/jobTasks.csv')\n\u001b[0m\u001b[1;32m    112\u001b[0m \u001b[0;34m\u001b[0m\u001b[0m\n\u001b[1;32m    113\u001b[0m         \u001b[0;31m# remove temporary directory\u001b[0m\u001b[0;34m\u001b[0m\u001b[0;34m\u001b[0m\u001b[0;34m\u001b[0m\u001b[0m\n",
      "\u001b[0;32m~/Job_Shop_Schedule_Problem/venv/lib/python3.6/site-packages/JSSP/data.py\u001b[0m in \u001b[0;36minitialize_data_from_csv\u001b[0;34m(seq_dep_matrix_file, machine_speeds_file, job_tasks_file)\u001b[0m\n\u001b[1;32m     93\u001b[0m         \u001b[0mData\u001b[0m\u001b[0;34m.\u001b[0m\u001b[0mread_sequence_dependency_matrix_file\u001b[0m\u001b[0;34m(\u001b[0m\u001b[0mseq_dep_matrix_file\u001b[0m\u001b[0;34m)\u001b[0m\u001b[0;34m\u001b[0m\u001b[0;34m\u001b[0m\u001b[0m\n\u001b[1;32m     94\u001b[0m         \u001b[0mData\u001b[0m\u001b[0;34m.\u001b[0m\u001b[0mread_machine_speeds_file\u001b[0m\u001b[0;34m(\u001b[0m\u001b[0mmachine_speeds_file\u001b[0m\u001b[0;34m)\u001b[0m\u001b[0;34m\u001b[0m\u001b[0;34m\u001b[0m\u001b[0m\n\u001b[0;32m---> 95\u001b[0;31m         \u001b[0mData\u001b[0m\u001b[0;34m.\u001b[0m\u001b[0m_create_dependency_matrix_encoding_and_usable_machines_matrix\u001b[0m\u001b[0;34m(\u001b[0m\u001b[0;34m)\u001b[0m\u001b[0;34m\u001b[0m\u001b[0;34m\u001b[0m\u001b[0m\n\u001b[0m\u001b[1;32m     96\u001b[0m \u001b[0;34m\u001b[0m\u001b[0m\n\u001b[1;32m     97\u001b[0m     \u001b[0;34m@\u001b[0m\u001b[0mstaticmethod\u001b[0m\u001b[0;34m\u001b[0m\u001b[0;34m\u001b[0m\u001b[0m\n",
      "\u001b[0;32m~/Job_Shop_Schedule_Problem/venv/lib/python3.6/site-packages/JSSP/data.py\u001b[0m in \u001b[0;36m_create_dependency_matrix_encoding_and_usable_machines_matrix\u001b[0;34m()\u001b[0m\n\u001b[1;32m    210\u001b[0m                 \u001b[0mData\u001b[0m\u001b[0;34m.\u001b[0m\u001b[0mdependency_matrix_index_encoding\u001b[0m\u001b[0;34m[\u001b[0m\u001b[0mjob\u001b[0m\u001b[0;34m.\u001b[0m\u001b[0mget_job_id\u001b[0m\u001b[0;34m(\u001b[0m\u001b[0;34m)\u001b[0m\u001b[0;34m,\u001b[0m \u001b[0mtask\u001b[0m\u001b[0;34m.\u001b[0m\u001b[0mget_task_id\u001b[0m\u001b[0;34m(\u001b[0m\u001b[0;34m)\u001b[0m\u001b[0;34m]\u001b[0m \u001b[0;34m=\u001b[0m \u001b[0mindex\u001b[0m\u001b[0;34m\u001b[0m\u001b[0;34m\u001b[0m\u001b[0m\n\u001b[1;32m    211\u001b[0m                 Data.usable_machines_matrix[index] = np.resize(task.get_usable_machines(),\n\u001b[0;32m--> 212\u001b[0;31m                                                                Data.total_number_of_machines)\n\u001b[0m\u001b[1;32m    213\u001b[0m                 \u001b[0mindex\u001b[0m \u001b[0;34m+=\u001b[0m \u001b[0;36m1\u001b[0m\u001b[0;34m\u001b[0m\u001b[0;34m\u001b[0m\u001b[0m\n\u001b[1;32m    214\u001b[0m \u001b[0;34m\u001b[0m\u001b[0m\n",
      "\u001b[0;31mIndexError\u001b[0m: index 100 is out of bounds for axis 0 with size 100"
     ]
    }
   ],
   "source": [
    "from JSSP.data import Data\n",
    "import os\n",
    "\"\"\"\n",
    "initialize static data from csv files\n",
    "\"\"\"\n",
    "Data.initialize_data_from_fjs('../data/fjs_data/Barnes/Barnes_mt10c1.fjs')\n",
    "\n",
    "# uncomment this to print the data that was read in\n",
    "Data.print_data()"
   ]
  },
  {
   "cell_type": "markdown",
   "metadata": {},
   "source": [
    "### Parameters for Tabu Search\n",
    "\n",
    "See [README.md](https://github.com/mcfadd/Job_Shop_Schedule_Problem/blob/master/README.md) for information on these parameters."
   ]
  },
  {
   "cell_type": "code",
   "execution_count": 2,
   "metadata": {},
   "outputs": [],
   "source": [
    "runtime = 150 # set runtime to 60 seconds \n",
    "output_dir = './jssp_output'\n",
    "num_processes = 10\n",
    "tabu_list_size = 50\n",
    "neighborhood_size = 300\n",
    "neighborhood_wait = 0.1\n",
    "probability_change_machine = 0.8"
   ]
  },
  {
   "cell_type": "markdown",
   "metadata": {},
   "source": [
    "As of right now the main program only runs parallel Tabu Search.  "
   ]
  },
  {
   "cell_type": "code",
   "execution_count": 3,
   "metadata": {},
   "outputs": [
    {
     "name": "stdout",
     "output_type": "stream",
     "text": [
      "Parameters:\n",
      "runtime = 150 seconds\n",
      "output directory = ./jssp_output\n",
      "number of processes = 10\n",
      "tabu list size = 50\n",
      "neighborhood size = 300\n",
      "neighborhood wait time = 0.1 seconds\n",
      "probability of changing an operation's machine = 0.8\n",
      "initial solution makespan = None\n",
      "\n",
      "Initial Solution's makespans:\n",
      "[1915, 1752, 1834, 1672, 1508, 1814, 1688, 1969, 1737, 1913]\n",
      "\n",
      "child TS process started. pid = 30524\n",
      "child TS process started. pid = 30525\n",
      "child TS process started. pid = 30526\n",
      "child TS process started. pid = 30527\n",
      "child TS process started. pid = 30528\n",
      "child TS process started. pid = 30529\n",
      "child TS process started. pid = 30530\n",
      "child TS process started. pid = 30531\n",
      "child TS process started. pid = 30532\n",
      "child TS process started. pid = 30533\n"
     ]
    },
    {
     "name": "stderr",
     "output_type": "stream",
     "text": [
      "||||||||||||||||||||||||||||||||||||||||||||||||||||||||||||||||| Time: 0:02:28\n"
     ]
    },
    {
     "name": "stdout",
     "output_type": "stream",
     "text": [
      "child TS process finished. pid = 30524\n",
      "child TS process finished. pid = 30525\n",
      "child TS process finished. pid = 30526\n",
      "child TS process finished. pid = 30527\n",
      "child TS process finished. pid = 30528\n",
      "child TS process finished. pid = 30529\n",
      "child TS process finished. pid = 30530\n",
      "child TS process finished. pid = 30531\n",
      "child TS process finished. pid = 30532\n",
      "child TS process finished. pid = 30533\n",
      "collecting results from tmp directory\n",
      "Tabu Search Makespan Results:\n",
      "[1006.0, 1061.0, 1068.0, 1013.0, 1043.0, 1100.0, 1207.0, 1005.0, 1090.0, 1053.0]\n",
      "\n",
      "Best Solution Found:\n",
      "makespan = 1005.0\n",
      "machine_makespans = [550.0, 548.0, 639.0, 984.0, 1003.0, 913.0, 923.0, 1005.0, 993.0, 915.0, 544.0]\n",
      "operation_list =\n",
      "[[ 8  0  0  0 76]\n",
      " [ 5  0  0  2 84]\n",
      " [ 3  0  0  1 81]\n",
      " [ 7  0  0  2 31]\n",
      " [ 0  0  0  0 29]\n",
      " [ 4  0  0  2 14]\n",
      " [ 4  1  1 10  6]\n",
      " [ 8  1  1  1 69]\n",
      " [ 3  1  1  2 95]\n",
      " [ 0  1  1  1 78]\n",
      " [ 0  2  2  2  9]\n",
      " [ 1  0  0  0 43]\n",
      " [ 8  2  2  3 76]\n",
      " [ 0  3  3  3 36]\n",
      " [ 1  1  1  2 90]\n",
      " [ 0  4  4  4 49]\n",
      " [ 5  1  1  1  2]\n",
      " [ 7  1  1 10 86]\n",
      " [ 9  0  0  1 85]\n",
      " [ 5  2  2  5 52]\n",
      " [ 0  5  5  5 11]\n",
      " [ 3  2  2 10 71]\n",
      " [ 8  3  3  5 51]\n",
      " [ 9  1  1  0 13]\n",
      " [ 4  2  2  1 22]\n",
      " [ 1  2  2  4 75]\n",
      " [ 9  2  2  2 61]\n",
      " [ 2  0  0  1 91]\n",
      " [ 5  3  3  3 95]\n",
      " [ 5  4  4  8 48]\n",
      " [ 9  3  3  6  7]\n",
      " [ 6  0  0  1 46]\n",
      " [ 1  3  3  9 11]\n",
      " [ 8  4  4  2 85]\n",
      " [ 3  3  3  4 99]\n",
      " [ 7  2  2  1 46]\n",
      " [ 4  3  3  5 61]\n",
      " [ 7  3  3  5 74]\n",
      " [ 5  5  5  9 72]\n",
      " [ 2  1  1  0 85]\n",
      " [ 9  4  4  8 64]\n",
      " [ 0  6  6  6 62]\n",
      " [ 3  4  4  6  9]\n",
      " [ 1  4  4  3 69]\n",
      " [ 5  6  6 10 47]\n",
      " [ 0  7  7  7 56]\n",
      " [ 6  1  1  0 37]\n",
      " [ 8  5  5  9 11]\n",
      " [ 9  5  5  9 76]\n",
      " [ 4  4  4  3 26]\n",
      " [ 2  2  2  3 39]\n",
      " [ 4  5  5  4 69]\n",
      " [ 8  6  6  6 40]\n",
      " [ 1  5  5  1 28]\n",
      " [ 3  5  5  8 52]\n",
      " [ 4  6  6  8 21]\n",
      " [ 2  3  3  2 74]\n",
      " [ 9  6  6  5 47]\n",
      " [ 3  6  6  7 85]\n",
      " [ 4  7  7  7 49]\n",
      " [ 6  2  2  3 61]\n",
      " [ 7  4  4  4 32]\n",
      " [ 1  6  6  6 46]\n",
      " [ 5  7  7  6 65]\n",
      " [ 9  7  7  3 52]\n",
      " [ 0  8  8  8 44]\n",
      " [ 1  7  7  5 46]\n",
      " [ 6  3  3  2 13]\n",
      " [ 0  9  9  9 21]\n",
      " [ 4  8  8  9 72]\n",
      " [ 1  8  8  7 72]\n",
      " [ 3  7  7  3 98]\n",
      " [ 2  4  4  8 90]\n",
      " [ 2  5  5  5 10]\n",
      " [ 6  4  4  6 32]\n",
      " [ 2  6  6  7 12]\n",
      " [ 6  5  5  5 21]\n",
      " [ 6  6  6  9 32]\n",
      " [ 7  5  5  6 88]\n",
      " [ 9  8  8  4 90]\n",
      " [ 7  6  6  8 19]\n",
      " [ 7  7  7  9 48]\n",
      " [ 6  7  7  8 89]\n",
      " [ 8  7  7  7 89]\n",
      " [ 8  8  8  4 26]\n",
      " [ 1  9  9  8 30]\n",
      " [ 2  7  7  6 89]\n",
      " [ 7  8  8  7 36]\n",
      " [ 5  8  8  4  6]\n",
      " [ 7  9  9  3 79]\n",
      " [ 3  8  8  9 22]\n",
      " [ 2  8  8  9 45]\n",
      " [ 4  9  9  6 53]\n",
      " [ 8  9  9  8 74]\n",
      " [ 3  9  9  5 43]\n",
      " [ 2  9  9  4 33]\n",
      " [ 6  8  8  7 30]\n",
      " [ 6  9  9  4 55]\n",
      " [ 9  9  9  7 45]\n",
      " [ 5  9  9  7 25]]\n",
      "\n",
      "Schedule.xlsx placed in ./jssp_output\n"
     ]
    },
    {
     "data": {
      "text/plain": [
       "0"
      ]
     },
     "execution_count": 3,
     "metadata": {},
     "output_type": "execute_result"
    }
   ],
   "source": [
    "from JSSP.main import main\n",
    "\"\"\"\n",
    "Run the main program\n",
    "\n",
    "If you would like to run a benchmark \n",
    "set is_benchmark=True.\n",
    "\"\"\"\n",
    "\n",
    "main(runtime, \n",
    "     output_dir, \n",
    "     num_processes, \n",
    "     tabu_list_size, \n",
    "     neighborhood_size, \n",
    "     neighborhood_wait, \n",
    "     probability_change_machine, \n",
    "     is_benchmark=False,\n",
    "     verbose=True, \n",
    "     progress_bar=True)\n",
    "\n",
    "# main(runtime, \n",
    "#      output_dir,  \n",
    "#      is_benchmark=True, \n",
    "#      progress_bar=True)"
   ]
  },
  {
   "cell_type": "code",
   "execution_count": null,
   "metadata": {},
   "outputs": [],
   "source": []
  }
 ],
 "metadata": {
  "kernelspec": {
   "display_name": "Python 3",
   "language": "python",
   "name": "python3"
  },
  "language_info": {
   "codemirror_mode": {
    "name": "ipython",
    "version": 3
   },
   "file_extension": ".py",
   "mimetype": "text/x-python",
   "name": "python",
   "nbconvert_exporter": "python",
   "pygments_lexer": "ipython3",
   "version": "3.6.7"
  }
 },
 "nbformat": 4,
 "nbformat_minor": 2
}
